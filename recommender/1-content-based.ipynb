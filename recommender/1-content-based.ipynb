{
 "cells": [
  {
   "cell_type": "markdown",
   "metadata": {},
   "source": [
    "# Content-based\n",
    "\n",
    "Recommendations based on the 'content' of the items. In this case: movies. So the title, actors, writers, etc."
   ]
  },
  {
   "cell_type": "code",
   "execution_count": 1,
   "metadata": {},
   "outputs": [
    {
     "name": "stderr",
     "output_type": "stream",
     "text": [
      "[nltk_data] Downloading package stopwords to\n",
      "[nltk_data]     /Users/jeroen/nltk_data...\n",
      "[nltk_data]   Package stopwords is already up-to-date!\n"
     ]
    }
   ],
   "source": [
    "# Core\n",
    "import numpy as np\n",
    "import pandas as pd\n",
    "import matplotlib.pyplot as plt\n",
    "import scipy.sparse as scsp\n",
    "from scipy.sparse import lil_matrix, csr_matrix, coo_matrix\n",
    "\n",
    "# SKLearn\n",
    "import sklearn\n",
    "from sklearn.feature_extraction.text import CountVectorizer\n",
    "from sklearn.feature_extraction.text import TfidfTransformer\n",
    "from sklearn.feature_extraction.text import TfidfVectorizer\n",
    "from sklearn.neighbors import NearestNeighbors\n",
    "\n",
    "# NLTK\n",
    "import nltk\n",
    "nltk.download('stopwords')\n",
    "from nltk.corpus import stopwords\n",
    "from nltk.stem.snowball import SnowballStemmer\n",
    "\n",
    "# Display\n",
    "import ipywidgets as w\n",
    "from ipywidgets import widgets, HBox, VBox\n",
    "from IPython.core.display import HTML\n",
    "from movie_display import movie_display\n",
    "\n",
    "app = w.Output()"
   ]
  },
  {
   "cell_type": "markdown",
   "metadata": {},
   "source": [
    "## IMDb JSON\n",
    "\n",
    "Import movies into a data frame and analyze the availables attributes.\n",
    "\n",
    "9125 Movies with 18 attributes from IMDb.\n",
    "\n",
    "Attributes:\n",
    "\n",
    "- Actors\n",
    "- ...\n",
    "- Plot\n",
    "- Title\n",
    "- Writer\n",
    "- ...\n",
    "- imdbVotes"
   ]
  },
  {
   "cell_type": "code",
   "execution_count": 2,
   "metadata": {},
   "outputs": [
    {
     "data": {
      "text/html": [
       "<div>\n",
       "<style scoped>\n",
       "    .dataframe tbody tr th:only-of-type {\n",
       "        vertical-align: middle;\n",
       "    }\n",
       "\n",
       "    .dataframe tbody tr th {\n",
       "        vertical-align: top;\n",
       "    }\n",
       "\n",
       "    .dataframe thead th {\n",
       "        text-align: right;\n",
       "    }\n",
       "</style>\n",
       "<table border=\"1\" class=\"dataframe\">\n",
       "  <thead>\n",
       "    <tr style=\"text-align: right;\">\n",
       "      <th></th>\n",
       "      <th>Actors</th>\n",
       "      <th>Awards</th>\n",
       "      <th>Country</th>\n",
       "      <th>Director</th>\n",
       "      <th>Genre</th>\n",
       "      <th>Language</th>\n",
       "      <th>Plot</th>\n",
       "      <th>Poster</th>\n",
       "      <th>Production</th>\n",
       "      <th>Rated</th>\n",
       "      <th>Released</th>\n",
       "      <th>Runtime</th>\n",
       "      <th>Title</th>\n",
       "      <th>Writer</th>\n",
       "      <th>Year</th>\n",
       "      <th>imdbId</th>\n",
       "      <th>imdbRating</th>\n",
       "      <th>imdbVotes</th>\n",
       "    </tr>\n",
       "  </thead>\n",
       "  <tbody>\n",
       "    <tr>\n",
       "      <th>0</th>\n",
       "      <td>Tom Hanks, Tim Allen, Don Rickles, Jim Varney</td>\n",
       "      <td>Nominated for 3 Oscars. Another 23 wins &amp; 18 n...</td>\n",
       "      <td>USA</td>\n",
       "      <td>John Lasseter</td>\n",
       "      <td>Animation, Adventure, Comedy</td>\n",
       "      <td>English</td>\n",
       "      <td>A cowboy doll is profoundly threatened and jea...</td>\n",
       "      <td>https://images-na.ssl-images-amazon.com/images...</td>\n",
       "      <td>Buena Vista</td>\n",
       "      <td>G</td>\n",
       "      <td>22 Nov 1995</td>\n",
       "      <td>81 min</td>\n",
       "      <td>Toy Story</td>\n",
       "      <td>John Lasseter (original story by), Pete Docter...</td>\n",
       "      <td>1995</td>\n",
       "      <td>114709</td>\n",
       "      <td>8.3</td>\n",
       "      <td>666,855</td>\n",
       "    </tr>\n",
       "    <tr>\n",
       "      <th>1</th>\n",
       "      <td>Robin Williams, Jonathan Hyde, Kirsten Dunst, ...</td>\n",
       "      <td>4 wins &amp; 9 nominations.</td>\n",
       "      <td>USA</td>\n",
       "      <td>Joe Johnston</td>\n",
       "      <td>Action, Adventure, Family</td>\n",
       "      <td>English, French</td>\n",
       "      <td>When two kids find and play a magical board ga...</td>\n",
       "      <td>https://images-na.ssl-images-amazon.com/images...</td>\n",
       "      <td>Sony Pictures Home Entertainment</td>\n",
       "      <td>PG</td>\n",
       "      <td>15 Dec 1995</td>\n",
       "      <td>104 min</td>\n",
       "      <td>Jumanji</td>\n",
       "      <td>Jonathan Hensleigh (screenplay), Greg Taylor (...</td>\n",
       "      <td>1995</td>\n",
       "      <td>113497</td>\n",
       "      <td>6.9</td>\n",
       "      <td>223,000</td>\n",
       "    </tr>\n",
       "    <tr>\n",
       "      <th>2</th>\n",
       "      <td>Walter Matthau, Jack Lemmon, Sophia Loren, Ann...</td>\n",
       "      <td>2 wins &amp; 2 nominations.</td>\n",
       "      <td>USA</td>\n",
       "      <td>Howard Deutch</td>\n",
       "      <td>Comedy, Romance</td>\n",
       "      <td>English</td>\n",
       "      <td>John and Max resolve to save their beloved bai...</td>\n",
       "      <td>https://images-na.ssl-images-amazon.com/images...</td>\n",
       "      <td>Warner Home Video</td>\n",
       "      <td>PG-13</td>\n",
       "      <td>22 Dec 1995</td>\n",
       "      <td>101 min</td>\n",
       "      <td>Grumpier Old Men</td>\n",
       "      <td>Mark Steven Johnson (characters), Mark Steven ...</td>\n",
       "      <td>1995</td>\n",
       "      <td>113228</td>\n",
       "      <td>6.6</td>\n",
       "      <td>20,100</td>\n",
       "    </tr>\n",
       "    <tr>\n",
       "      <th>3</th>\n",
       "      <td>Whitney Houston, Angela Bassett, Loretta Devin...</td>\n",
       "      <td>8 wins &amp; 8 nominations.</td>\n",
       "      <td>USA</td>\n",
       "      <td>Forest Whitaker</td>\n",
       "      <td>Comedy, Drama, Romance</td>\n",
       "      <td>English</td>\n",
       "      <td>Based on Terry McMillan's novel, this film fol...</td>\n",
       "      <td>https://images-na.ssl-images-amazon.com/images...</td>\n",
       "      <td>Twentieth Century Fox Home Entertainment</td>\n",
       "      <td>R</td>\n",
       "      <td>22 Dec 1995</td>\n",
       "      <td>124 min</td>\n",
       "      <td>Waiting to Exhale</td>\n",
       "      <td>Terry McMillan (novel), Terry McMillan (screen...</td>\n",
       "      <td>1995</td>\n",
       "      <td>114885</td>\n",
       "      <td>5.7</td>\n",
       "      <td>7,769</td>\n",
       "    </tr>\n",
       "    <tr>\n",
       "      <th>4</th>\n",
       "      <td>Steve Martin, Diane Keaton, Martin Short, Kimb...</td>\n",
       "      <td>Nominated for 1 Golden Globe. Another 1 win &amp; ...</td>\n",
       "      <td>USA</td>\n",
       "      <td>Charles Shyer</td>\n",
       "      <td>Comedy, Family, Romance</td>\n",
       "      <td>English</td>\n",
       "      <td>George Banks must deal not only with the pregn...</td>\n",
       "      <td>https://images-na.ssl-images-amazon.com/images...</td>\n",
       "      <td>Disney</td>\n",
       "      <td>PG</td>\n",
       "      <td>08 Dec 1995</td>\n",
       "      <td>106 min</td>\n",
       "      <td>Father of the Bride Part II</td>\n",
       "      <td>Albert Hackett (screenplay), Frances Goodrich ...</td>\n",
       "      <td>1995</td>\n",
       "      <td>113041</td>\n",
       "      <td>5.9</td>\n",
       "      <td>27,815</td>\n",
       "    </tr>\n",
       "  </tbody>\n",
       "</table>\n",
       "</div>"
      ],
      "text/plain": [
       "                                              Actors  \\\n",
       "0      Tom Hanks, Tim Allen, Don Rickles, Jim Varney   \n",
       "1  Robin Williams, Jonathan Hyde, Kirsten Dunst, ...   \n",
       "2  Walter Matthau, Jack Lemmon, Sophia Loren, Ann...   \n",
       "3  Whitney Houston, Angela Bassett, Loretta Devin...   \n",
       "4  Steve Martin, Diane Keaton, Martin Short, Kimb...   \n",
       "\n",
       "                                              Awards Country         Director  \\\n",
       "0  Nominated for 3 Oscars. Another 23 wins & 18 n...     USA    John Lasseter   \n",
       "1                            4 wins & 9 nominations.     USA     Joe Johnston   \n",
       "2                            2 wins & 2 nominations.     USA    Howard Deutch   \n",
       "3                            8 wins & 8 nominations.     USA  Forest Whitaker   \n",
       "4  Nominated for 1 Golden Globe. Another 1 win & ...     USA    Charles Shyer   \n",
       "\n",
       "                          Genre         Language  \\\n",
       "0  Animation, Adventure, Comedy          English   \n",
       "1     Action, Adventure, Family  English, French   \n",
       "2               Comedy, Romance          English   \n",
       "3        Comedy, Drama, Romance          English   \n",
       "4       Comedy, Family, Romance          English   \n",
       "\n",
       "                                                Plot  \\\n",
       "0  A cowboy doll is profoundly threatened and jea...   \n",
       "1  When two kids find and play a magical board ga...   \n",
       "2  John and Max resolve to save their beloved bai...   \n",
       "3  Based on Terry McMillan's novel, this film fol...   \n",
       "4  George Banks must deal not only with the pregn...   \n",
       "\n",
       "                                              Poster  \\\n",
       "0  https://images-na.ssl-images-amazon.com/images...   \n",
       "1  https://images-na.ssl-images-amazon.com/images...   \n",
       "2  https://images-na.ssl-images-amazon.com/images...   \n",
       "3  https://images-na.ssl-images-amazon.com/images...   \n",
       "4  https://images-na.ssl-images-amazon.com/images...   \n",
       "\n",
       "                                 Production  Rated     Released  Runtime  \\\n",
       "0                               Buena Vista      G  22 Nov 1995   81 min   \n",
       "1          Sony Pictures Home Entertainment     PG  15 Dec 1995  104 min   \n",
       "2                         Warner Home Video  PG-13  22 Dec 1995  101 min   \n",
       "3  Twentieth Century Fox Home Entertainment      R  22 Dec 1995  124 min   \n",
       "4                                    Disney     PG  08 Dec 1995  106 min   \n",
       "\n",
       "                         Title  \\\n",
       "0                    Toy Story   \n",
       "1                      Jumanji   \n",
       "2             Grumpier Old Men   \n",
       "3            Waiting to Exhale   \n",
       "4  Father of the Bride Part II   \n",
       "\n",
       "                                              Writer  Year  imdbId imdbRating  \\\n",
       "0  John Lasseter (original story by), Pete Docter...  1995  114709        8.3   \n",
       "1  Jonathan Hensleigh (screenplay), Greg Taylor (...  1995  113497        6.9   \n",
       "2  Mark Steven Johnson (characters), Mark Steven ...  1995  113228        6.6   \n",
       "3  Terry McMillan (novel), Terry McMillan (screen...  1995  114885        5.7   \n",
       "4  Albert Hackett (screenplay), Frances Goodrich ...  1995  113041        5.9   \n",
       "\n",
       "  imdbVotes  \n",
       "0   666,855  \n",
       "1   223,000  \n",
       "2    20,100  \n",
       "3     7,769  \n",
       "4    27,815  "
      ]
     },
     "execution_count": 2,
     "metadata": {},
     "output_type": "execute_result"
    }
   ],
   "source": [
    "# Load movies into a dataframe\n",
    "df = pd.read_json('./dataset/imdbdata.json', orient='columns')\n",
    "df.head(5)"
   ]
  },
  {
   "cell_type": "code",
   "execution_count": 3,
   "metadata": {},
   "outputs": [
    {
     "data": {
      "text/plain": [
       "'JohnLasseter(originalstoryby) PeteDocter(originalstoryby) AndrewStanton(originalstoryby) JoeRanft(originalstoryby) JossWhedon(screenplay) AndrewStanton(screenplay) JoelCohen(screenplay) AlecSokolow(screenplay)'"
      ]
     },
     "execution_count": 3,
     "metadata": {},
     "output_type": "execute_result"
    }
   ],
   "source": [
    "writers = df.Writer.loc[0]\n",
    "' '.join([writer.replace(' ', '') for writer in writers.split(', ')])"
   ]
  },
  {
   "cell_type": "markdown",
   "metadata": {},
   "source": [
    "## Feature Extraction\n",
    "\n",
    "Count vectorizer: https://stackoverflow.com/questions/36182502/add-stemming-support-to-countvectorizer-sklearn\n",
    "\n",
    "Excluding stopwords and stemming words according to the NLTK English language dictionaries.\n",
    "\n",
    "### Stopwords\n",
    "\n",
    "Frequent words with no meaning. Like: 'as', 'you', 'the'.\n",
    "\n",
    "### Stemming\n",
    "\n",
    "Useful but also transforms correct words into incorrect ones. Like `james` to `jame` and `territory` to `terri`.\n",
    "\n",
    "### Features\n",
    "\n",
    "- Plot\n",
    "- Title\n",
    "- Genre\n",
    "- Actors\n",
    "- Writers\n",
    "- Rated (movies with a similiar MPAA rating)\n",
    "- Year (movies in a similiar time frame)"
   ]
  },
  {
   "cell_type": "code",
   "execution_count": 4,
   "metadata": {},
   "outputs": [
    {
     "name": "stdout",
     "output_type": "stream",
     "text": [
      "['i', 'me', 'my', 'myself', 'we', 'our', 'ours', 'ourselves', 'you', \"you're\"]\n"
     ]
    }
   ],
   "source": [
    "features = df.copy()\n",
    "\n",
    "# Get the stopwords for the English language\n",
    "useless_words = stopwords.words('english')\n",
    "# Create a stemmer for the English language\n",
    "stemmer = SnowballStemmer(\"english\", ignore_stopwords=True)\n",
    "\n",
    "print(useless_words[:10])"
   ]
  },
  {
   "cell_type": "code",
   "execution_count": 5,
   "metadata": {},
   "outputs": [],
   "source": [
    "mpaa_ratings = ['G', 'PG', 'PG-13', 'R', 'NC-17', 'NR']\n",
    "mpaa_synonyms = [\n",
    "    (['N/A', 'NOT RATED', 'UNRATED'], 'NR'),     # not rated\n",
    "    (['APPROVED', 'PASSED', 'GP', 'TV-G'], 'G'), # general public\n",
    "    (['TV-PG'], 'PG'),                           # parental guidance\n",
    "    (['TV-14'], 'PG-13'),                        # parental guidance under 13\n",
    "    (['M/PG', 'X'], 'R'),                        # restricted\n",
    "    (['M', 'TV-MA'], 'NC-17')                    # mature\n",
    "]\n",
    "\n",
    "# all available year ranges\n",
    "years_range = ['190','191','192','193','194','195','196','197','198','199','200','201']\n",
    "\n",
    "plots = []\n",
    "genres = []\n",
    "titles = []\n",
    "actors = []\n",
    "writers = []\n",
    "rated = []\n",
    "years = []\n",
    "for row in df.itertuples():\n",
    "    # Plot\n",
    "    plots.append(' '.join([stemmer.stem(w) for w in row.Plot.split()]))\n",
    "    # Title\n",
    "    titles.append(' '.join([w for w in row.Title.split() if w.lower() not in useless_words]))\n",
    "    # Genre\n",
    "    genres.append(' '.join(row.Genre.split(', ')))\n",
    "    # Actors\n",
    "    actors.append(' '.join([actor.replace(' ', '') for actor in row.Actors.split(', ')]))\n",
    "    # Writers\n",
    "    writers.append(' '.join([writer.replace(' ', '') for writer in row.Writer.split(', ')]))\n",
    "\n",
    "    # Rated\n",
    "    mpaa = row.Rated\n",
    "    for synonyms, replacement in mpaa_synonyms:\n",
    "        if mpaa in synonyms:\n",
    "            mpaa = replacement\n",
    "            break\n",
    "    rated.append(mpaa)\n",
    "\n",
    "    # Year\n",
    "    year = row.Year[:3]\n",
    "    year_i = years_range.index(year)\n",
    "    years.append(' '.join(years_range[max(0, year_i - 1):min(year_i + 2, len(years_range))]))\n",
    "\n",
    "features['PlotStripped'] = plots\n",
    "features['TitleStripped'] = titles\n",
    "features['GenreStripped'] = genres\n",
    "features['ActorsStripped'] = actors\n",
    "features['WritersStripped'] = writers\n",
    "features['RatedStripped'] = rated\n",
    "features['YearsRange'] = years"
   ]
  },
  {
   "cell_type": "code",
   "execution_count": 6,
   "metadata": {},
   "outputs": [
    {
     "data": {
      "text/plain": [
       "['192', '193', '194']"
      ]
     },
     "execution_count": 6,
     "metadata": {},
     "output_type": "execute_result"
    }
   ],
   "source": [
    "# Test the years range feature\n",
    "years_range[max(0, 3 - 1):min(3 + 2, len(years_range))]"
   ]
  },
  {
   "cell_type": "markdown",
   "metadata": {},
   "source": [
    "#### Count Vectorizer\n",
    "\n",
    "Finding the frequencies of words in the plots using a bag of words approach and transforming the term count to term frequency.\n",
    "\n",
    "We do not use this approach for the plot anymore because the `TfidfVectorizer` class does both steps in one. The data contains 17354 unique stemmed words in the plots (excluding stopwords)."
   ]
  },
  {
   "cell_type": "code",
   "execution_count": 7,
   "metadata": {},
   "outputs": [
    {
     "name": "stdout",
     "output_type": "stream",
     "text": [
      "(9125, 17364)\n"
     ]
    }
   ],
   "source": [
    "vectorizer = CountVectorizer()\n",
    "bag_of_words = vectorizer.fit(features.PlotStripped).transform(features.PlotStripped)\n",
    "\n",
    "tfidf_transformer = TfidfTransformer()\n",
    "tfidf_transformed = tfidf_transformer.fit_transform(bag_of_words)\n",
    "print(tfidf_transformed.shape)"
   ]
  },
  {
   "cell_type": "markdown",
   "metadata": {},
   "source": [
    "One-hot encoding the genres using a count vectorizer. The data contains 26 unique genres."
   ]
  },
  {
   "cell_type": "code",
   "execution_count": 8,
   "metadata": {},
   "outputs": [
    {
     "name": "stdout",
     "output_type": "stream",
     "text": [
      "(9125, 26)\n"
     ]
    }
   ],
   "source": [
    "vectorizer = CountVectorizer()\n",
    "tf_genres = vectorizer.fit(features.GenreStripped).transform(features.GenreStripped)\n",
    "print(tf_genres.shape)"
   ]
  },
  {
   "cell_type": "markdown",
   "metadata": {},
   "source": [
    "One-hot encoding the words in the title using a count vectorizer. The data contains 7219 unique words."
   ]
  },
  {
   "cell_type": "code",
   "execution_count": 9,
   "metadata": {},
   "outputs": [
    {
     "name": "stdout",
     "output_type": "stream",
     "text": [
      "(9125, 7219)\n"
     ]
    }
   ],
   "source": [
    "vectorizer = CountVectorizer()\n",
    "tf_title = vectorizer.fit(features.TitleStripped).transform(features.TitleStripped)\n",
    "print(tf_title.shape)"
   ]
  },
  {
   "cell_type": "markdown",
   "metadata": {},
   "source": [
    "One-hot encoding the full names of the actors using a count vectorizer. The data contains 16476 unique actors."
   ]
  },
  {
   "cell_type": "code",
   "execution_count": 10,
   "metadata": {},
   "outputs": [
    {
     "name": "stdout",
     "output_type": "stream",
     "text": [
      "(9125, 16476)\n"
     ]
    }
   ],
   "source": [
    "vectorizer = CountVectorizer()\n",
    "tf_actors = vectorizer.fit(features.ActorsStripped).transform(features.ActorsStripped)\n",
    "print(tf_actors.shape)"
   ]
  },
  {
   "cell_type": "markdown",
   "metadata": {},
   "source": [
    "One-hot encoding the full names and roles of the writers using a count vectorizer. The data contains 12041 unique writers."
   ]
  },
  {
   "cell_type": "code",
   "execution_count": 11,
   "metadata": {},
   "outputs": [
    {
     "name": "stdout",
     "output_type": "stream",
     "text": [
      "(9125, 12041)\n"
     ]
    }
   ],
   "source": [
    "vectorizer = CountVectorizer()\n",
    "tf_writers = vectorizer.fit(features.WritersStripped).transform(features.WritersStripped)\n",
    "print(tf_writers.shape)"
   ]
  },
  {
   "cell_type": "markdown",
   "metadata": {},
   "source": [
    "One-hot encoding the MPAA ratings using a count vectorizer. The data contains 5 unique ratings after generalizing them into these 5 categories ourselves."
   ]
  },
  {
   "cell_type": "code",
   "execution_count": 12,
   "metadata": {},
   "outputs": [
    {
     "name": "stdout",
     "output_type": "stream",
     "text": [
      "(9125, 5)\n"
     ]
    }
   ],
   "source": [
    "vectorizer = CountVectorizer()\n",
    "tf_rated = vectorizer.fit(features.RatedStripped).transform(features.RatedStripped)\n",
    "print(tf_rated.shape)"
   ]
  },
  {
   "cell_type": "markdown",
   "metadata": {},
   "source": [
    "One-hot encoding the decades using a count vectorizer. The data contains 12 unique decades."
   ]
  },
  {
   "cell_type": "code",
   "execution_count": 13,
   "metadata": {},
   "outputs": [
    {
     "name": "stdout",
     "output_type": "stream",
     "text": [
      "(9125, 12)\n"
     ]
    }
   ],
   "source": [
    "vectorizer = CountVectorizer()\n",
    "tf_years = vectorizer.fit(features.YearsRange).transform(features.YearsRange)\n",
    "print(tf_years.shape)"
   ]
  },
  {
   "cell_type": "markdown",
   "metadata": {},
   "source": [
    "#### Tf-Idf\n",
    "Finding the frequencies of words in the plots directly using the Tf-Idf vectorizer."
   ]
  },
  {
   "cell_type": "code",
   "execution_count": 14,
   "metadata": {},
   "outputs": [
    {
     "name": "stdout",
     "output_type": "stream",
     "text": [
      "  (movie_index, word_index)\tfrequency\n",
      "\n"
     ]
    }
   ],
   "source": [
    "vectorizer = TfidfVectorizer()\n",
    "tfidf_plots = vectorizer.fit_transform(plots)\n",
    "\n",
    "print(\"  (movie_index, word_index)\\tfrequency\\n\")"
   ]
  },
  {
   "cell_type": "markdown",
   "metadata": {},
   "source": [
    "## The Recommender Class"
   ]
  },
  {
   "cell_type": "code",
   "execution_count": 15,
   "metadata": {},
   "outputs": [],
   "source": [
    "class Recommender_v2():\n",
    "    # Multiplier that creates the sample size based on the requested amount of recommendations\n",
    "    SAMPLE_MULTIPLIER = 5\n",
    "    # The amount of movies we cross check when finding recommendations for multiple movies\n",
    "    COMBINE_AMOUNT = 100\n",
    "\n",
    "    def __init__(self, feature_zip, n_recommendations=10):\n",
    "        # Check feature zip sizes\n",
    "        if len(feature_zip) <= 0 or len(feature_zip[0]) != 2 or feature_zip[0][0].shape[0] <= 0:\n",
    "            raise ValueError('Invalid feature_zip shape!')\n",
    "\n",
    "        # The full amount of movies in the dataset\n",
    "        full_sample_size = feature_zip[0][0].shape[0]\n",
    "        print('Finding similiarities between', full_sample_size, 'items...')\n",
    "\n",
    "        # Sample size is 5 times the size of the number of recommendations that will be predicted\n",
    "        sample_size = n_recommendations * self.SAMPLE_MULTIPLIER\n",
    "\n",
    "        # Check sample size\n",
    "        if full_sample_size < sample_size:\n",
    "            raise ValueError('Too few samples!')\n",
    "\n",
    "        # Create a knn to fit all features and get sample_size number of similiar items\n",
    "        nbrs = NearestNeighbors(n_neighbors=sample_size, algorithm='auto', metric='cosine')\n",
    "        self.graph = lil_matrix((full_sample_size, full_sample_size), dtype=np.float16)\n",
    "        self.n_movies = full_sample_size\n",
    "\n",
    "        # For every feature\n",
    "        for feature, weight in feature_zip:\n",
    "            print('Analyzing feature with weight', weight, '...')\n",
    "            # Get a graph of distances to the sample_size closest items\n",
    "            distances, indices = nbrs.fit(feature).kneighbors(feature)\n",
    "            temp = lil_matrix((full_sample_size, full_sample_size), dtype=np.float)\n",
    "            for i, indices_for_item in enumerate(indices):\n",
    "                # Weigh the distances\n",
    "                temp[i, indices_for_item] = (1 - distances[i]) * weight\n",
    "            self.graph += temp\n",
    "        # Normalize by the sum of the weights\n",
    "        print('Normalizing results...')\n",
    "        self.graph /= sum([t[1] for t in feature_zip])\n",
    "        print('Done!')\n",
    "\n",
    "    def recommend(self, movie_index, n_recommendations=5):\n",
    "        # We don't want to include the same movie so we exclude it\n",
    "        return sorted(zip(self.graph.data[movie_index], self.graph.rows[movie_index]), key=lambda x: x[0], reverse=True)[1:n_recommendations + 1]\n",
    "\n",
    "    def recommend_multiple(self, movie_indices, n_recommendations=5):\n",
    "        shape = (self.n_movies, 1)\n",
    "        sparse = csr_matrix(shape, dtype=np.float)\n",
    "        # Sum the 100 recommendations for every movie\n",
    "        for movie_index in movie_indices:\n",
    "            recoms = self.recommend(movie_index, self.COMBINE_AMOUNT)\n",
    "            sparse += csr_matrix(([r[0] for r in recoms], ([r[1] for r in recoms], np.zeros(len(recoms)))), shape)\n",
    "        sparse /= len(movie_indices)\n",
    "        # Find the best N of the combined recommendations\n",
    "        return sorted(zip(sparse.data, sparse.nonzero()[0]), key=lambda x: x[0], reverse=True)[:n_recommendations]\n"
   ]
  },
  {
   "cell_type": "code",
   "execution_count": 16,
   "metadata": {},
   "outputs": [
    {
     "name": "stdout",
     "output_type": "stream",
     "text": [
      "Finding similiarities between 9125 items...\n",
      "Analyzing feature with weight 1 ...\n",
      "Normalizing results...\n",
      "Done!\n"
     ]
    }
   ],
   "source": [
    "feature_zip = [\n",
    "    (tfidf_plots, 1)\n",
    "]\n",
    "\n",
    "test_reco = Recommender_v2(feature_zip=feature_zip)"
   ]
  },
  {
   "cell_type": "code",
   "execution_count": 17,
   "metadata": {
    "scrolled": false
   },
   "outputs": [
    {
     "data": {
      "text/plain": [
       "[(0.24853515625, 4538),\n",
       " (0.24755859375, 6547),\n",
       " (0.2203369140625, 3091),\n",
       " (0.195068359375, 1524)]"
      ]
     },
     "execution_count": 17,
     "metadata": {},
     "output_type": "execute_result"
    }
   ],
   "source": [
    "# Lets get the N most similiar movies\n",
    "movie = 3\n",
    "best = sorted(zip(test_reco.graph.data[movie], test_reco.graph.rows[movie]), key=lambda x: x[0], reverse=True)\n",
    "best[1:5]"
   ]
  },
  {
   "cell_type": "code",
   "execution_count": 18,
   "metadata": {},
   "outputs": [
    {
     "name": "stdout",
     "output_type": "stream",
     "text": [
      "  (0, 0)\t0.5\n",
      "  (0, 2506)\t0.35\n",
      "  (0, 7556)\t0.4\n"
     ]
    }
   ],
   "source": [
    "# Testing with sparse matrices\n",
    "a = lil_matrix((9125, 9125), dtype=np.float)\n",
    "b = lil_matrix((9125, 9125), dtype=np.float)\n",
    "b[[0], [0, 7556, 2506]] = 1 - np.array([.0, .2, .3])\n",
    "\n",
    "a += b\n",
    "a /= 2\n",
    "\n",
    "print(a)"
   ]
  },
  {
   "cell_type": "markdown",
   "metadata": {},
   "source": [
    "## App\n",
    "\n",
    "After setting up a recommender object the app enables you to look up movies and show N amount of recommendations for that movie or add movies to a watch list and show N amount of recommendations for all movies in that watch list.\n",
    "\n",
    "Features and their weights:\n",
    "\n",
    "- Titles: `0.9`\n",
    "- Genres: `1.0`\n",
    "- Actors: `1.0`\n",
    "- Writers: `0.8`\n",
    "- Plots: `2.0`\n",
    "- Rated: `0.8`\n",
    "- Years: `1.0`\n",
    "\n",
    "`0 < N <= 20`"
   ]
  },
  {
   "cell_type": "code",
   "execution_count": 19,
   "metadata": {},
   "outputs": [
    {
     "name": "stdout",
     "output_type": "stream",
     "text": [
      "Finding similiarities between 9125 items...\n",
      "Analyzing feature with weight 0.9 ...\n",
      "Analyzing feature with weight 1.0 ...\n",
      "Analyzing feature with weight 1.0 ...\n",
      "Analyzing feature with weight 0.8 ...\n",
      "Analyzing feature with weight 2.0 ...\n",
      "Analyzing feature with weight 0.8 ...\n",
      "Analyzing feature with weight 1.0 ...\n",
      "Normalizing results...\n",
      "Done!\n"
     ]
    }
   ],
   "source": [
    "# Recommender\n",
    "recommender_v2 = Recommender_v2(feature_zip=[\n",
    "    (tf_title,    0.9),\n",
    "    (tf_genres,   1.0),\n",
    "    (tf_actors,   1.0),\n",
    "    (tf_writers,  0.8),\n",
    "    (tfidf_plots, 2.0),\n",
    "    (tf_rated,    0.8),\n",
    "    (tf_years,    1.0)\n",
    "])"
   ]
  },
  {
   "cell_type": "code",
   "execution_count": 20,
   "metadata": {},
   "outputs": [],
   "source": [
    "def on_movie_select(b):\n",
    "    movie_preview.clear_output()\n",
    "    with movie_preview:\n",
    "        display(HTML(movie_display.show([df.iloc[dropdown_movie.value]])))\n",
    "        \n",
    "def add_to_watch_list(b):\n",
    "    if dropdown_movie.value not in watch_list:\n",
    "        watch_list.append(dropdown_movie.value)\n",
    "        # Redraw\n",
    "        movie_watch_list.clear_output()\n",
    "        with movie_watch_list:\n",
    "            display(HTML(movie_display.show([df.iloc[i] for i in watch_list])))\n",
    "\n",
    "def recommend(b):\n",
    "    show_recommendations(recommender_v2.recommend(dropdown_movie.value, slider_reco_size.value))\n",
    "\n",
    "def recommend_watch_list(b):\n",
    "    show_recommendations(recommender_v2.recommend_multiple(watch_list, slider_reco_size.value))\n",
    "\n",
    "def sort_movies(dropdown, tuples, alphabetically):\n",
    "    dropdown.options = sorted(tuples, key=lambda x: x[0 if alphabetically else 1])\n",
    "\n",
    "def show_recommendations(recommendations):\n",
    "    recommendations = [r[1] for r in recommendations] # get just the movie ids and not the scores\n",
    "    # Redraw\n",
    "    movie_recommendations.clear_output()\n",
    "    with movie_recommendations:\n",
    "        display(HTML(movie_display.show([df.iloc[i] for i in recommendations])))\n",
    "\n",
    "# Movie title and ids as data for the dropdown\n",
    "movies_data = sorted(zip(df.Title, df.index))\n",
    "\n",
    "watch_list = []\n",
    "\n",
    "# UI\n",
    "dropdown_movie = w.Dropdown(description='Movie:')\n",
    "dropdown_movie.options = movies_data\n",
    "\n",
    "button_select = w.Button(description='Select')\n",
    "button_select.on_click(on_movie_select)\n",
    "\n",
    "slider_reco_size = w.IntSlider(min=1, max=20, value=10, description='Amount:')\n",
    "\n",
    "button_recommend = w.Button(description='Recommend Movies')\n",
    "button_recommend.on_click(recommend)\n",
    "\n",
    "button_recommend_watch_list = w.Button(description='Recommend Movies')\n",
    "button_recommend_watch_list.on_click(recommend_watch_list)\n",
    "\n",
    "button_add_to_watch_list = w.Button(description='Add to Watch List')\n",
    "button_add_to_watch_list.on_click(add_to_watch_list)\n",
    "\n",
    "button_sort_dropdown_1 = w.Button(description=\"Sort Title\")\n",
    "button_sort_dropdown_1.disabled = True\n",
    "button_sort_dropdown_1.on_click(lambda b: sort_movies(dropdown_movie, movies_data, True))\n",
    "button_sort_dropdown_2 = w.Button(description=\"Sort Id\")\n",
    "button_sort_dropdown_2.disabled = True\n",
    "button_sort_dropdown_2.on_click(lambda b: sort_movies(dropdown_movie, movies_data, False))\n",
    "\n",
    "movie_preview = w.Output()\n",
    "movie_recommendations = w.Output()\n",
    "movie_watch_list = w.Output()\n",
    "\n",
    "movie_selection = HBox([dropdown_movie, button_select, button_sort_dropdown_1, button_sort_dropdown_2])\n",
    "recommend_single = HBox([slider_reco_size, button_recommend])\n",
    "recommend_watch_list = HBox([slider_reco_size, button_recommend_watch_list])\n",
    "\n",
    "# Draw\n",
    "app.clear_output()\n",
    "with app:\n",
    "    display(movie_selection)\n",
    "    display(HTML('<h2>Now Viewing</h2>'))\n",
    "    display(movie_preview)\n",
    "    display(button_add_to_watch_list)\n",
    "    display(recommend_single)\n",
    "    display(HTML('<h2>Watch List</h2>'))\n",
    "    display(movie_watch_list)\n",
    "    display(recommend_watch_list)\n",
    "    display(HTML('<h2>Recommendations</h2>'))\n",
    "    display(movie_recommendations)"
   ]
  },
  {
   "cell_type": "code",
   "execution_count": null,
   "metadata": {},
   "outputs": [],
   "source": [
    "app"
   ]
  }
 ],
 "metadata": {
  "kernelspec": {
   "display_name": "Python 3",
   "language": "python",
   "name": "python3"
  },
  "language_info": {
   "codemirror_mode": {
    "name": "ipython",
    "version": 3
   },
   "file_extension": ".py",
   "mimetype": "text/x-python",
   "name": "python",
   "nbconvert_exporter": "python",
   "pygments_lexer": "ipython3",
   "version": "3.7.1"
  }
 },
 "nbformat": 4,
 "nbformat_minor": 2
}
