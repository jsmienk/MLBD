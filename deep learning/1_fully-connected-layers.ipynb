{
 "cells": [
  {
   "cell_type": "markdown",
   "metadata": {},
   "source": [
    "# Yahtzee"
   ]
  },
  {
   "cell_type": "code",
   "execution_count": 1,
   "metadata": {},
   "outputs": [],
   "source": [
    "import os\n",
    "import numpy as np\n",
    "import pandas as pd\n",
    "import matplotlib.pyplot as plt\n",
    "import tensorflow as tf\n",
    "\n",
    "from tensorflow import keras as tfk\n",
    "from tensorflow.keras.callbacks import TensorBoard\n",
    "\n",
    "%matplotlib inline\n",
    "\n",
    "__MODEL_PATH = 'models'\n",
    "__TENSOR_LOG_DIR = 'logs'"
   ]
  },
  {
   "cell_type": "markdown",
   "metadata": {},
   "source": [
    "## Dataset\n",
    "\n",
    "Let's start with looking at the provided dataset:"
   ]
  },
  {
   "cell_type": "code",
   "execution_count": 2,
   "metadata": {},
   "outputs": [
    {
     "name": "stdout",
     "output_type": "stream",
     "text": [
      "('Labels:', array(['nothing', 'small-straight', 'three-of-a-kind', 'large-straight',\n",
      "       'full-house', 'four-of-a-kind', 'yathzee'], dtype=object))\n"
     ]
    },
    {
     "data": {
      "text/html": [
       "<div>\n",
       "<style scoped>\n",
       "    .dataframe tbody tr th:only-of-type {\n",
       "        vertical-align: middle;\n",
       "    }\n",
       "\n",
       "    .dataframe tbody tr th {\n",
       "        vertical-align: top;\n",
       "    }\n",
       "\n",
       "    .dataframe thead th {\n",
       "        text-align: right;\n",
       "    }\n",
       "</style>\n",
       "<table border=\"1\" class=\"dataframe\">\n",
       "  <thead>\n",
       "    <tr style=\"text-align: right;\">\n",
       "      <th></th>\n",
       "      <th>dice1</th>\n",
       "      <th>dice2</th>\n",
       "      <th>dice3</th>\n",
       "      <th>dice4</th>\n",
       "      <th>dice5</th>\n",
       "      <th>label</th>\n",
       "    </tr>\n",
       "  </thead>\n",
       "  <tbody>\n",
       "    <tr>\n",
       "      <th>0</th>\n",
       "      <td>3</td>\n",
       "      <td>6</td>\n",
       "      <td>6</td>\n",
       "      <td>2</td>\n",
       "      <td>5</td>\n",
       "      <td>nothing</td>\n",
       "    </tr>\n",
       "    <tr>\n",
       "      <th>1</th>\n",
       "      <td>3</td>\n",
       "      <td>6</td>\n",
       "      <td>1</td>\n",
       "      <td>3</td>\n",
       "      <td>4</td>\n",
       "      <td>nothing</td>\n",
       "    </tr>\n",
       "    <tr>\n",
       "      <th>2</th>\n",
       "      <td>2</td>\n",
       "      <td>2</td>\n",
       "      <td>5</td>\n",
       "      <td>5</td>\n",
       "      <td>3</td>\n",
       "      <td>nothing</td>\n",
       "    </tr>\n",
       "    <tr>\n",
       "      <th>3</th>\n",
       "      <td>1</td>\n",
       "      <td>3</td>\n",
       "      <td>6</td>\n",
       "      <td>6</td>\n",
       "      <td>1</td>\n",
       "      <td>nothing</td>\n",
       "    </tr>\n",
       "    <tr>\n",
       "      <th>4</th>\n",
       "      <td>1</td>\n",
       "      <td>4</td>\n",
       "      <td>6</td>\n",
       "      <td>3</td>\n",
       "      <td>5</td>\n",
       "      <td>small-straight</td>\n",
       "    </tr>\n",
       "    <tr>\n",
       "      <th>5</th>\n",
       "      <td>4</td>\n",
       "      <td>1</td>\n",
       "      <td>4</td>\n",
       "      <td>3</td>\n",
       "      <td>1</td>\n",
       "      <td>nothing</td>\n",
       "    </tr>\n",
       "    <tr>\n",
       "      <th>6</th>\n",
       "      <td>4</td>\n",
       "      <td>4</td>\n",
       "      <td>4</td>\n",
       "      <td>6</td>\n",
       "      <td>2</td>\n",
       "      <td>three-of-a-kind</td>\n",
       "    </tr>\n",
       "    <tr>\n",
       "      <th>7</th>\n",
       "      <td>3</td>\n",
       "      <td>2</td>\n",
       "      <td>5</td>\n",
       "      <td>6</td>\n",
       "      <td>3</td>\n",
       "      <td>nothing</td>\n",
       "    </tr>\n",
       "    <tr>\n",
       "      <th>8</th>\n",
       "      <td>3</td>\n",
       "      <td>4</td>\n",
       "      <td>3</td>\n",
       "      <td>6</td>\n",
       "      <td>2</td>\n",
       "      <td>nothing</td>\n",
       "    </tr>\n",
       "    <tr>\n",
       "      <th>9</th>\n",
       "      <td>3</td>\n",
       "      <td>3</td>\n",
       "      <td>1</td>\n",
       "      <td>5</td>\n",
       "      <td>4</td>\n",
       "      <td>nothing</td>\n",
       "    </tr>\n",
       "  </tbody>\n",
       "</table>\n",
       "</div>"
      ],
      "text/plain": [
       "   dice1  dice2  dice3  dice4  dice5            label\n",
       "0      3      6      6      2      5          nothing\n",
       "1      3      6      1      3      4          nothing\n",
       "2      2      2      5      5      3          nothing\n",
       "3      1      3      6      6      1          nothing\n",
       "4      1      4      6      3      5   small-straight\n",
       "5      4      1      4      3      1          nothing\n",
       "6      4      4      4      6      2  three-of-a-kind\n",
       "7      3      2      5      6      3          nothing\n",
       "8      3      4      3      6      2          nothing\n",
       "9      3      3      1      5      4          nothing"
      ]
     },
     "execution_count": 2,
     "metadata": {},
     "output_type": "execute_result"
    }
   ],
   "source": [
    "df = pd.read_csv('yahtzee-dataset.csv')\n",
    "print('Labels:', df.label.unique())\n",
    "\n",
    "df.head(10)"
   ]
  },
  {
   "cell_type": "markdown",
   "metadata": {},
   "source": [
    "In order to classify these categorical labels, we have to 'one-hot encode' them:"
   ]
  },
  {
   "cell_type": "code",
   "execution_count": 3,
   "metadata": {},
   "outputs": [
    {
     "data": {
      "text/html": [
       "<div>\n",
       "<style scoped>\n",
       "    .dataframe tbody tr th:only-of-type {\n",
       "        vertical-align: middle;\n",
       "    }\n",
       "\n",
       "    .dataframe tbody tr th {\n",
       "        vertical-align: top;\n",
       "    }\n",
       "\n",
       "    .dataframe thead th {\n",
       "        text-align: right;\n",
       "    }\n",
       "</style>\n",
       "<table border=\"1\" class=\"dataframe\">\n",
       "  <thead>\n",
       "    <tr style=\"text-align: right;\">\n",
       "      <th></th>\n",
       "      <th>dice1</th>\n",
       "      <th>dice2</th>\n",
       "      <th>dice3</th>\n",
       "      <th>dice4</th>\n",
       "      <th>dice5</th>\n",
       "      <th>label_four-of-a-kind</th>\n",
       "      <th>label_full-house</th>\n",
       "      <th>label_large-straight</th>\n",
       "      <th>label_nothing</th>\n",
       "      <th>label_small-straight</th>\n",
       "      <th>label_three-of-a-kind</th>\n",
       "      <th>label_yathzee</th>\n",
       "    </tr>\n",
       "  </thead>\n",
       "  <tbody>\n",
       "    <tr>\n",
       "      <th>0</th>\n",
       "      <td>3</td>\n",
       "      <td>6</td>\n",
       "      <td>6</td>\n",
       "      <td>2</td>\n",
       "      <td>5</td>\n",
       "      <td>0</td>\n",
       "      <td>0</td>\n",
       "      <td>0</td>\n",
       "      <td>1</td>\n",
       "      <td>0</td>\n",
       "      <td>0</td>\n",
       "      <td>0</td>\n",
       "    </tr>\n",
       "    <tr>\n",
       "      <th>1</th>\n",
       "      <td>3</td>\n",
       "      <td>6</td>\n",
       "      <td>1</td>\n",
       "      <td>3</td>\n",
       "      <td>4</td>\n",
       "      <td>0</td>\n",
       "      <td>0</td>\n",
       "      <td>0</td>\n",
       "      <td>1</td>\n",
       "      <td>0</td>\n",
       "      <td>0</td>\n",
       "      <td>0</td>\n",
       "    </tr>\n",
       "    <tr>\n",
       "      <th>2</th>\n",
       "      <td>2</td>\n",
       "      <td>2</td>\n",
       "      <td>5</td>\n",
       "      <td>5</td>\n",
       "      <td>3</td>\n",
       "      <td>0</td>\n",
       "      <td>0</td>\n",
       "      <td>0</td>\n",
       "      <td>1</td>\n",
       "      <td>0</td>\n",
       "      <td>0</td>\n",
       "      <td>0</td>\n",
       "    </tr>\n",
       "    <tr>\n",
       "      <th>3</th>\n",
       "      <td>1</td>\n",
       "      <td>3</td>\n",
       "      <td>6</td>\n",
       "      <td>6</td>\n",
       "      <td>1</td>\n",
       "      <td>0</td>\n",
       "      <td>0</td>\n",
       "      <td>0</td>\n",
       "      <td>1</td>\n",
       "      <td>0</td>\n",
       "      <td>0</td>\n",
       "      <td>0</td>\n",
       "    </tr>\n",
       "    <tr>\n",
       "      <th>4</th>\n",
       "      <td>1</td>\n",
       "      <td>4</td>\n",
       "      <td>6</td>\n",
       "      <td>3</td>\n",
       "      <td>5</td>\n",
       "      <td>0</td>\n",
       "      <td>0</td>\n",
       "      <td>0</td>\n",
       "      <td>0</td>\n",
       "      <td>1</td>\n",
       "      <td>0</td>\n",
       "      <td>0</td>\n",
       "    </tr>\n",
       "    <tr>\n",
       "      <th>5</th>\n",
       "      <td>4</td>\n",
       "      <td>1</td>\n",
       "      <td>4</td>\n",
       "      <td>3</td>\n",
       "      <td>1</td>\n",
       "      <td>0</td>\n",
       "      <td>0</td>\n",
       "      <td>0</td>\n",
       "      <td>1</td>\n",
       "      <td>0</td>\n",
       "      <td>0</td>\n",
       "      <td>0</td>\n",
       "    </tr>\n",
       "    <tr>\n",
       "      <th>6</th>\n",
       "      <td>4</td>\n",
       "      <td>4</td>\n",
       "      <td>4</td>\n",
       "      <td>6</td>\n",
       "      <td>2</td>\n",
       "      <td>0</td>\n",
       "      <td>0</td>\n",
       "      <td>0</td>\n",
       "      <td>0</td>\n",
       "      <td>0</td>\n",
       "      <td>1</td>\n",
       "      <td>0</td>\n",
       "    </tr>\n",
       "    <tr>\n",
       "      <th>7</th>\n",
       "      <td>3</td>\n",
       "      <td>2</td>\n",
       "      <td>5</td>\n",
       "      <td>6</td>\n",
       "      <td>3</td>\n",
       "      <td>0</td>\n",
       "      <td>0</td>\n",
       "      <td>0</td>\n",
       "      <td>1</td>\n",
       "      <td>0</td>\n",
       "      <td>0</td>\n",
       "      <td>0</td>\n",
       "    </tr>\n",
       "    <tr>\n",
       "      <th>8</th>\n",
       "      <td>3</td>\n",
       "      <td>4</td>\n",
       "      <td>3</td>\n",
       "      <td>6</td>\n",
       "      <td>2</td>\n",
       "      <td>0</td>\n",
       "      <td>0</td>\n",
       "      <td>0</td>\n",
       "      <td>1</td>\n",
       "      <td>0</td>\n",
       "      <td>0</td>\n",
       "      <td>0</td>\n",
       "    </tr>\n",
       "    <tr>\n",
       "      <th>9</th>\n",
       "      <td>3</td>\n",
       "      <td>3</td>\n",
       "      <td>1</td>\n",
       "      <td>5</td>\n",
       "      <td>4</td>\n",
       "      <td>0</td>\n",
       "      <td>0</td>\n",
       "      <td>0</td>\n",
       "      <td>1</td>\n",
       "      <td>0</td>\n",
       "      <td>0</td>\n",
       "      <td>0</td>\n",
       "    </tr>\n",
       "  </tbody>\n",
       "</table>\n",
       "</div>"
      ],
      "text/plain": [
       "   dice1  dice2  dice3  dice4  dice5  label_four-of-a-kind  label_full-house  \\\n",
       "0      3      6      6      2      5                     0                 0   \n",
       "1      3      6      1      3      4                     0                 0   \n",
       "2      2      2      5      5      3                     0                 0   \n",
       "3      1      3      6      6      1                     0                 0   \n",
       "4      1      4      6      3      5                     0                 0   \n",
       "5      4      1      4      3      1                     0                 0   \n",
       "6      4      4      4      6      2                     0                 0   \n",
       "7      3      2      5      6      3                     0                 0   \n",
       "8      3      4      3      6      2                     0                 0   \n",
       "9      3      3      1      5      4                     0                 0   \n",
       "\n",
       "   label_large-straight  label_nothing  label_small-straight  \\\n",
       "0                     0              1                     0   \n",
       "1                     0              1                     0   \n",
       "2                     0              1                     0   \n",
       "3                     0              1                     0   \n",
       "4                     0              0                     1   \n",
       "5                     0              1                     0   \n",
       "6                     0              0                     0   \n",
       "7                     0              1                     0   \n",
       "8                     0              1                     0   \n",
       "9                     0              1                     0   \n",
       "\n",
       "   label_three-of-a-kind  label_yathzee  \n",
       "0                      0              0  \n",
       "1                      0              0  \n",
       "2                      0              0  \n",
       "3                      0              0  \n",
       "4                      0              0  \n",
       "5                      0              0  \n",
       "6                      1              0  \n",
       "7                      0              0  \n",
       "8                      0              0  \n",
       "9                      0              0  "
      ]
     },
     "execution_count": 3,
     "metadata": {},
     "output_type": "execute_result"
    }
   ],
   "source": [
    "one_hot_df = pd.get_dummies(df, prefix=['label'])\n",
    "one_hot_df.head(10)"
   ]
  },
  {
   "cell_type": "markdown",
   "metadata": {},
   "source": [
    "Before we can train any model, we have to split the data and the labels into X and Y:"
   ]
  },
  {
   "cell_type": "code",
   "execution_count": 4,
   "metadata": {},
   "outputs": [
    {
     "data": {
      "text/html": [
       "<div>\n",
       "<style scoped>\n",
       "    .dataframe tbody tr th:only-of-type {\n",
       "        vertical-align: middle;\n",
       "    }\n",
       "\n",
       "    .dataframe tbody tr th {\n",
       "        vertical-align: top;\n",
       "    }\n",
       "\n",
       "    .dataframe thead th {\n",
       "        text-align: right;\n",
       "    }\n",
       "</style>\n",
       "<table border=\"1\" class=\"dataframe\">\n",
       "  <thead>\n",
       "    <tr style=\"text-align: right;\">\n",
       "      <th></th>\n",
       "      <th>dice1</th>\n",
       "      <th>dice2</th>\n",
       "      <th>dice3</th>\n",
       "      <th>dice4</th>\n",
       "      <th>dice5</th>\n",
       "    </tr>\n",
       "  </thead>\n",
       "  <tbody>\n",
       "    <tr>\n",
       "      <th>0</th>\n",
       "      <td>3</td>\n",
       "      <td>6</td>\n",
       "      <td>6</td>\n",
       "      <td>2</td>\n",
       "      <td>5</td>\n",
       "    </tr>\n",
       "    <tr>\n",
       "      <th>1</th>\n",
       "      <td>3</td>\n",
       "      <td>6</td>\n",
       "      <td>1</td>\n",
       "      <td>3</td>\n",
       "      <td>4</td>\n",
       "    </tr>\n",
       "    <tr>\n",
       "      <th>2</th>\n",
       "      <td>2</td>\n",
       "      <td>2</td>\n",
       "      <td>5</td>\n",
       "      <td>5</td>\n",
       "      <td>3</td>\n",
       "    </tr>\n",
       "    <tr>\n",
       "      <th>3</th>\n",
       "      <td>1</td>\n",
       "      <td>3</td>\n",
       "      <td>6</td>\n",
       "      <td>6</td>\n",
       "      <td>1</td>\n",
       "    </tr>\n",
       "    <tr>\n",
       "      <th>4</th>\n",
       "      <td>1</td>\n",
       "      <td>4</td>\n",
       "      <td>6</td>\n",
       "      <td>3</td>\n",
       "      <td>5</td>\n",
       "    </tr>\n",
       "  </tbody>\n",
       "</table>\n",
       "</div>"
      ],
      "text/plain": [
       "   dice1  dice2  dice3  dice4  dice5\n",
       "0      3      6      6      2      5\n",
       "1      3      6      1      3      4\n",
       "2      2      2      5      5      3\n",
       "3      1      3      6      6      1\n",
       "4      1      4      6      3      5"
      ]
     },
     "execution_count": 4,
     "metadata": {},
     "output_type": "execute_result"
    }
   ],
   "source": [
    "X = one_hot_df.iloc[:,:5].copy()\n",
    "Y = one_hot_df.iloc[:,5:].copy()\n",
    "\n",
    "X.head(5)"
   ]
  },
  {
   "cell_type": "markdown",
   "metadata": {},
   "source": [
    "We also split the dataset into a 9:1 split for training and validating the model:"
   ]
  },
  {
   "cell_type": "code",
   "execution_count": 5,
   "metadata": {},
   "outputs": [
    {
     "name": "stdout",
     "output_type": "stream",
     "text": [
      "('Split X:', (5248, 5), (584, 5))\n",
      "('Split Y:', (5248, 7), (584, 7))\n"
     ]
    },
    {
     "data": {
      "text/html": [
       "<div>\n",
       "<style scoped>\n",
       "    .dataframe tbody tr th:only-of-type {\n",
       "        vertical-align: middle;\n",
       "    }\n",
       "\n",
       "    .dataframe tbody tr th {\n",
       "        vertical-align: top;\n",
       "    }\n",
       "\n",
       "    .dataframe thead th {\n",
       "        text-align: right;\n",
       "    }\n",
       "</style>\n",
       "<table border=\"1\" class=\"dataframe\">\n",
       "  <thead>\n",
       "    <tr style=\"text-align: right;\">\n",
       "      <th></th>\n",
       "      <th>label_four-of-a-kind</th>\n",
       "      <th>label_full-house</th>\n",
       "      <th>label_large-straight</th>\n",
       "      <th>label_nothing</th>\n",
       "      <th>label_small-straight</th>\n",
       "      <th>label_three-of-a-kind</th>\n",
       "      <th>label_yathzee</th>\n",
       "    </tr>\n",
       "  </thead>\n",
       "  <tbody>\n",
       "    <tr>\n",
       "      <th>0</th>\n",
       "      <td>0</td>\n",
       "      <td>0</td>\n",
       "      <td>0</td>\n",
       "      <td>1</td>\n",
       "      <td>0</td>\n",
       "      <td>0</td>\n",
       "      <td>0</td>\n",
       "    </tr>\n",
       "    <tr>\n",
       "      <th>1</th>\n",
       "      <td>0</td>\n",
       "      <td>0</td>\n",
       "      <td>0</td>\n",
       "      <td>1</td>\n",
       "      <td>0</td>\n",
       "      <td>0</td>\n",
       "      <td>0</td>\n",
       "    </tr>\n",
       "    <tr>\n",
       "      <th>2</th>\n",
       "      <td>0</td>\n",
       "      <td>0</td>\n",
       "      <td>0</td>\n",
       "      <td>1</td>\n",
       "      <td>0</td>\n",
       "      <td>0</td>\n",
       "      <td>0</td>\n",
       "    </tr>\n",
       "    <tr>\n",
       "      <th>3</th>\n",
       "      <td>0</td>\n",
       "      <td>0</td>\n",
       "      <td>0</td>\n",
       "      <td>1</td>\n",
       "      <td>0</td>\n",
       "      <td>0</td>\n",
       "      <td>0</td>\n",
       "    </tr>\n",
       "    <tr>\n",
       "      <th>4</th>\n",
       "      <td>0</td>\n",
       "      <td>0</td>\n",
       "      <td>0</td>\n",
       "      <td>0</td>\n",
       "      <td>1</td>\n",
       "      <td>0</td>\n",
       "      <td>0</td>\n",
       "    </tr>\n",
       "  </tbody>\n",
       "</table>\n",
       "</div>"
      ],
      "text/plain": [
       "   label_four-of-a-kind  label_full-house  label_large-straight  \\\n",
       "0                     0                 0                     0   \n",
       "1                     0                 0                     0   \n",
       "2                     0                 0                     0   \n",
       "3                     0                 0                     0   \n",
       "4                     0                 0                     0   \n",
       "\n",
       "   label_nothing  label_small-straight  label_three-of-a-kind  label_yathzee  \n",
       "0              1                     0                      0              0  \n",
       "1              1                     0                      0              0  \n",
       "2              1                     0                      0              0  \n",
       "3              1                     0                      0              0  \n",
       "4              0                     1                      0              0  "
      ]
     },
     "execution_count": 5,
     "metadata": {},
     "output_type": "execute_result"
    }
   ],
   "source": [
    "split = int(len(X.index) * .9)\n",
    "X_train = X.iloc[:split]\n",
    "X_valid = X.iloc[split:]\n",
    "Y_train = Y.iloc[:split]\n",
    "Y_valid = Y.iloc[split:]\n",
    "\n",
    "print('Split X:', X_train.shape, X_valid.shape)\n",
    "print('Split Y:', Y_train.shape, Y_valid.shape)\n",
    "\n",
    "Y_train.head(5)"
   ]
  },
  {
   "cell_type": "markdown",
   "metadata": {},
   "source": [
    "## Models\n",
    "We designed several models:\n",
    "\n",
    "rank | name | layers | score\n",
    "--- | --- | --- | ---\n",
    "1 | model_6 | Dense(32, tanh), Dense(256, tanh), Dropout(0.1), Dense(256, tanh), Dropout(0.1), Dense(128, tanh), Dense(512, tanh), Dropout(0.1), Dense(512, tanh), Dropout(0.5), Dense(128, tanh)| 0.691780821918\n",
    "2 | model_3 | Dense(32, ReLu), Dense(64, ReLu), Dropout(0.1), Dense(128, ReLu), Dropout(0.1), Dense(512, ReLu)| 0.683219178082\n",
    "3 | model_4 | Dense(1024, tanh), Dense(512, tanh), Dense(128, tanh) | 0.679794520548\n",
    "4 | model_2 | Dense(128, ReLu), Dense(256, ReLu), Dense(32, ReLu) | 0.676369863014\n",
    "5 | model_1 | Dense(128, Sigmoid) | 0.674657534247\n",
    "6 | model_5 | Dense(16, Sigmoid), Dense(32, Sigmoid | 0.674657534247\n",
    "\n",
    "Dropout has a positive effect on the score as can be seen in the table. We also found that the tanh activation function performed well. "
   ]
  },
  {
   "cell_type": "code",
   "execution_count": 6,
   "metadata": {},
   "outputs": [],
   "source": [
    "def model_1(shape):\n",
    "    \"\"\"\n",
    "    Single hidden layer with 128 neurons and Sigmoid activation function.\n",
    "    \"\"\"\n",
    "    return tfk.models.Sequential([\n",
    "        tfk.layers.Dense(128,      activation='sigmoid', input_shape=(shape[0],), name='l1'),\n",
    "        tfk.layers.Dense(shape[1], activation='softmax',                          name='output')\n",
    "    ])"
   ]
  },
  {
   "cell_type": "code",
   "execution_count": 7,
   "metadata": {},
   "outputs": [],
   "source": [
    "def model_2(shape):\n",
    "    \"\"\"\n",
    "    Three hidden layers with different amounts of neurons and relu activation functions.\n",
    "    \"\"\"\n",
    "    return tfk.models.Sequential([\n",
    "        tfk.layers.Dense(128,      activation='relu', input_shape=(shape[0],), name='l1'),\n",
    "        tfk.layers.Dense(256,      activation='relu',                          name='l2'),\n",
    "        tfk.layers.Dense(32,       activation='relu',                          name='l3'),\n",
    "        tfk.layers.Dense(shape[1], activation='softmax',                       name='output')\n",
    "    ])"
   ]
  },
  {
   "cell_type": "code",
   "execution_count": 8,
   "metadata": {},
   "outputs": [],
   "source": [
    "def model_3(shape):\n",
    "    \"\"\"\n",
    "    Six hidden layers with different amounts of neurons and relu activation functions and 2 dropout layers.\n",
    "    \"\"\"\n",
    "    return tfk.models.Sequential([\n",
    "        tfk.layers.Dense(32,       activation='relu', input_shape=(shape[0],), name='l1'),\n",
    "        tfk.layers.Dense(64,       activation='relu',                          name='l2'),\n",
    "        tfk.layers.Dropout(0.1,                                                name='l3'),\n",
    "        tfk.layers.Dense(128,      activation='relu',                          name='l4'),\n",
    "        tfk.layers.Dropout(0.1,                                                name='l5'),\n",
    "        tfk.layers.Dense(512,      activation='relu',                          name='l6'),\n",
    "        tfk.layers.Dense(shape[1], activation='softmax',                       name='output')\n",
    "    ])"
   ]
  },
  {
   "cell_type": "code",
   "execution_count": 9,
   "metadata": {},
   "outputs": [],
   "source": [
    "def model_4(shape):\n",
    "    \"\"\"\n",
    "    Three hidden layers with a decreasing amount of neurons and tanh (Scaled Sigmoid) activation functions.\n",
    "    \"\"\"\n",
    "    return tfk.models.Sequential([\n",
    "        tfk.layers.Dense(1024,      activation='tanh', input_shape=(shape[0],), name='l1'),\n",
    "        tfk.layers.Dense(512,       activation='tanh',                          name='l2'),\n",
    "        tfk.layers.Dense(128,       activation='tanh',                          name='l3'),\n",
    "        tfk.layers.Dense(shape[1],  activation='softmax',                       name='output')\n",
    "    ])"
   ]
  },
  {
   "cell_type": "code",
   "execution_count": 10,
   "metadata": {},
   "outputs": [],
   "source": [
    "def model_5(shape):\n",
    "    \"\"\"\n",
    "    Two hidden layers with 16 neurons and 32 neurons and Sigmoid activation function.\n",
    "    \"\"\"\n",
    "    return tfk.models.Sequential([\n",
    "        tfk.layers.Dense(16,       activation='sigmoid', input_shape=(shape[0],), name='l1'),\n",
    "        tfk.layers.Dense(32,       activation='sigmoid',                          name='l2'),\n",
    "        tfk.layers.Dense(shape[1], activation='softmax',                          name='output')\n",
    "    ])"
   ]
  },
  {
   "cell_type": "code",
   "execution_count": 11,
   "metadata": {},
   "outputs": [],
   "source": [
    "def model_6(shape):\n",
    "    \"\"\"\n",
    "    11 hidden layers with different amounts of neurons and tanh activation functions and 4 dropout layers.\n",
    "    \"\"\"\n",
    "    return tfk.models.Sequential([\n",
    "        tfk.layers.Dense(64,       activation='tanh', input_shape=(shape[0],), name='l1'),\n",
    "        tfk.layers.Dense(256,      activation='tanh',                          name='l2'),\n",
    "        tfk.layers.Dropout(0.1,                                                name='l3'),\n",
    "        tfk.layers.Dense(256,      activation='tanh',                          name='l4'),\n",
    "        tfk.layers.Dropout(0.1,                                                name='l5'),\n",
    "        tfk.layers.Dense(128,      activation='tanh',                          name='l6'),\n",
    "        tfk.layers.Dense(512,      activation='tanh',                          name='l7'),\n",
    "        tfk.layers.Dropout(0.1,                                                name='l8'),\n",
    "        tfk.layers.Dense(512,      activation='tanh',                          name='l9'),\n",
    "        tfk.layers.Dropout(0.6,                                                name='l10'),\n",
    "        tfk.layers.Dense(128,      activation='tanh',                          name='l11'),\n",
    "        tfk.layers.Dense(shape[1], activation='softmax',                       name='output')\n",
    "    ])"
   ]
  },
  {
   "cell_type": "markdown",
   "metadata": {},
   "source": [
    "We can choose a model to train and test:"
   ]
  },
  {
   "cell_type": "code",
   "execution_count": 12,
   "metadata": {},
   "outputs": [],
   "source": [
    "model_fn = model_6\n",
    "model = model_fn((X.shape[1], Y.shape[1]))"
   ]
  },
  {
   "cell_type": "markdown",
   "metadata": {},
   "source": [
    "We configure TensorBoard to get a good look on the performance of our model:"
   ]
  },
  {
   "cell_type": "code",
   "execution_count": 13,
   "metadata": {},
   "outputs": [
    {
     "name": "stdout",
     "output_type": "stream",
     "text": [
      "_________________________________________________________________\n",
      "Layer (type)                 Output Shape              Param #   \n",
      "=================================================================\n",
      "l1 (Dense)                   (None, 64)                384       \n",
      "_________________________________________________________________\n",
      "l2 (Dense)                   (None, 256)               16640     \n",
      "_________________________________________________________________\n",
      "l3 (Dropout)                 (None, 256)               0         \n",
      "_________________________________________________________________\n",
      "l4 (Dense)                   (None, 256)               65792     \n",
      "_________________________________________________________________\n",
      "l5 (Dropout)                 (None, 256)               0         \n",
      "_________________________________________________________________\n",
      "l6 (Dense)                   (None, 128)               32896     \n",
      "_________________________________________________________________\n",
      "l7 (Dense)                   (None, 512)               66048     \n",
      "_________________________________________________________________\n",
      "l8 (Dropout)                 (None, 512)               0         \n",
      "_________________________________________________________________\n",
      "l9 (Dense)                   (None, 512)               262656    \n",
      "_________________________________________________________________\n",
      "l10 (Dropout)                (None, 512)               0         \n",
      "_________________________________________________________________\n",
      "l11 (Dense)                  (None, 128)               65664     \n",
      "_________________________________________________________________\n",
      "output (Dense)               (None, 7)                 903       \n",
      "=================================================================\n",
      "Total params: 510,983\n",
      "Trainable params: 510,983\n",
      "Non-trainable params: 0\n",
      "_________________________________________________________________\n"
     ]
    }
   ],
   "source": [
    "model.summary()\n",
    "tensor_board = TensorBoard(log_dir=os.path.join(__TENSOR_LOG_DIR, model_fn.__name__), histogram_freq=1)"
   ]
  },
  {
   "cell_type": "markdown",
   "metadata": {},
   "source": [
    "We choose an optimizer, a loss functon and metrics:"
   ]
  },
  {
   "cell_type": "code",
   "execution_count": 14,
   "metadata": {},
   "outputs": [],
   "source": [
    "# Compile the model and use the Adam optimizer, Cross Entropy loss function and accuracy metric\n",
    "optimizer = tfk.optimizers.Adam(lr=.001, decay=.0)\n",
    "\n",
    "model.compile(optimizer=optimizer,\n",
    "              loss='categorical_crossentropy',\n",
    "              metrics=['accuracy'])"
   ]
  },
  {
   "cell_type": "markdown",
   "metadata": {},
   "source": [
    "We train the model using a certain batch size and for a number of epochs:"
   ]
  },
  {
   "cell_type": "code",
   "execution_count": 15,
   "metadata": {},
   "outputs": [
    {
     "name": "stdout",
     "output_type": "stream",
     "text": [
      "Train on 4723 samples, validate on 525 samples\n",
      "Epoch 1/10\n",
      "4723/4723 [==============================] - 1s 194us/step - loss: 1.2093 - acc: 0.6316 - val_loss: 1.0471 - val_acc: 0.6857\n",
      "Epoch 2/10\n",
      "4723/4723 [==============================] - 0s 95us/step - loss: 1.1410 - acc: 0.6581 - val_loss: 1.0644 - val_acc: 0.6857\n",
      "Epoch 3/10\n",
      "4723/4723 [==============================] - 0s 91us/step - loss: 1.1264 - acc: 0.6587 - val_loss: 1.0382 - val_acc: 0.6857\n",
      "Epoch 4/10\n",
      "4723/4723 [==============================] - 0s 96us/step - loss: 1.1051 - acc: 0.6589 - val_loss: 1.0415 - val_acc: 0.6857\n",
      "Epoch 5/10\n",
      "4723/4723 [==============================] - 0s 90us/step - loss: 1.0907 - acc: 0.6581 - val_loss: 1.0215 - val_acc: 0.6857\n",
      "Epoch 6/10\n",
      "4723/4723 [==============================] - 0s 92us/step - loss: 1.0657 - acc: 0.6570 - val_loss: 0.9983 - val_acc: 0.6876\n",
      "Epoch 7/10\n",
      "4723/4723 [==============================] - 0s 91us/step - loss: 1.0738 - acc: 0.6612 - val_loss: 1.0020 - val_acc: 0.6876\n",
      "Epoch 8/10\n",
      "4723/4723 [==============================] - 0s 92us/step - loss: 1.0437 - acc: 0.6589 - val_loss: 1.0191 - val_acc: 0.6857\n",
      "Epoch 9/10\n",
      "4723/4723 [==============================] - 0s 90us/step - loss: 1.0376 - acc: 0.6591 - val_loss: 0.9536 - val_acc: 0.6838\n",
      "Epoch 10/10\n",
      "4723/4723 [==============================] - 0s 90us/step - loss: 1.0248 - acc: 0.6591 - val_loss: 0.9596 - val_acc: 0.6857\n"
     ]
    },
    {
     "data": {
      "text/plain": [
       "<tensorflow.python.keras.callbacks.History at 0x126281390>"
      ]
     },
     "execution_count": 15,
     "metadata": {},
     "output_type": "execute_result"
    }
   ],
   "source": [
    "epochs = 10\n",
    "batch_size = 128\n",
    "validation_split = .10\n",
    "\n",
    "# Train the model\n",
    "model.fit(x=X_train, \n",
    "          y=Y_train,\n",
    "          epochs=epochs,\n",
    "          batch_size=batch_size,\n",
    "          validation_split=validation_split,\n",
    "          verbose=1,\n",
    "          shuffle=True,\n",
    "          callbacks=[tensor_board])"
   ]
  },
  {
   "cell_type": "markdown",
   "metadata": {},
   "source": [
    "We validate the model with the data it has not seen yet:"
   ]
  },
  {
   "cell_type": "code",
   "execution_count": 16,
   "metadata": {},
   "outputs": [],
   "source": [
    "def validate(m, X, Y):\n",
    "    \"Validate a model with unseen data\"\n",
    "    return m.evaluate(X, Y)[1]"
   ]
  },
  {
   "cell_type": "code",
   "execution_count": 17,
   "metadata": {},
   "outputs": [
    {
     "name": "stdout",
     "output_type": "stream",
     "text": [
      "584/584 [==============================] - 0s 190us/step\n",
      "Test accuracy: 0.679794520548\n"
     ]
    }
   ],
   "source": [
    "# Validate the model with unseen data\n",
    "score = validate(model, X_valid, Y_valid)\n",
    "\n",
    "# Print test accuracy\n",
    "print('Test accuracy: {}'.format(score))"
   ]
  },
  {
   "cell_type": "markdown",
   "metadata": {},
   "source": [
    "We save the model that worked best:"
   ]
  },
  {
   "cell_type": "code",
   "execution_count": 18,
   "metadata": {},
   "outputs": [
    {
     "name": "stdout",
     "output_type": "stream",
     "text": [
      "Model saved.\n"
     ]
    }
   ],
   "source": [
    "# model.save(\"{}.h5\".format(os.path.join(__MODEL_PATH, model_fn.__name__)))\n",
    "print(\"Model saved.\")"
   ]
  },
  {
   "cell_type": "markdown",
   "metadata": {},
   "source": [
    "We load the model that worked best:"
   ]
  },
  {
   "cell_type": "code",
   "execution_count": 20,
   "metadata": {},
   "outputs": [
    {
     "name": "stdout",
     "output_type": "stream",
     "text": [
      "Model model_1.h5 retrieved!\n",
      "584/584 [==============================] - 0s 217us/step\n",
      "Test accuracy: 0.679794520548\n"
     ]
    }
   ],
   "source": [
    "best_model_file_name = \"model_1.h5\"\n",
    "\n",
    "best_model = tfk.models.load_model(os.path.join(__MODEL_PATH, best_model_file_name))\n",
    "\n",
    "print(\"Model {} retrieved!\".format(best_model_file_name))\n",
    "\n",
    "validate(best_model, X_valid, Y_valid)\n",
    "print('Test accuracy: {}'.format(score))"
   ]
  },
  {
   "cell_type": "code",
   "execution_count": null,
   "metadata": {},
   "outputs": [],
   "source": []
  }
 ],
 "metadata": {
  "kernelspec": {
   "display_name": "Python 2",
   "language": "python",
   "name": "python2"
  },
  "language_info": {
   "codemirror_mode": {
    "name": "ipython",
    "version": 2
   },
   "file_extension": ".py",
   "mimetype": "text/x-python",
   "name": "python",
   "nbconvert_exporter": "python",
   "pygments_lexer": "ipython2",
   "version": "2.7.15"
  }
 },
 "nbformat": 4,
 "nbformat_minor": 2
}
