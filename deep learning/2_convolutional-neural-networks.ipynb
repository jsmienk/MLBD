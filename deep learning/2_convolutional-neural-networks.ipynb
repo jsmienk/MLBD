{
 "cells": [
  {
   "cell_type": "markdown",
   "metadata": {},
   "source": [
    "# Handwritten Postal Codes\n",
    "\n",
    "__Convolutional Neural Networks__\n",
    "\n",
    "_By Marnick van der Arend & Jeroen Smienk_\n",
    "\n",
    "![Sample Digits](digits-sample.png)"
   ]
  },
  {
   "cell_type": "code",
   "execution_count": 1,
   "metadata": {},
   "outputs": [
    {
     "name": "stderr",
     "output_type": "stream",
     "text": [
      "/anaconda3/lib/python3.7/importlib/_bootstrap.py:219: RuntimeWarning: compiletime version 3.6 of module 'tensorflow.python.framework.fast_tensor_util' does not match runtime version 3.7\n",
      "  return f(*args, **kwds)\n"
     ]
    }
   ],
   "source": [
    "import os\n",
    "import numpy as np\n",
    "import pandas as pd\n",
    "import matplotlib.pyplot as plt\n",
    "import tensorflow as tf\n",
    "import cv2\n",
    "\n",
    "%matplotlib inline\n",
    "\n",
    "__MODEL_PATH = 'conv-models'\n",
    "__DATA_PATH = 'dataset-images'\n",
    "__TENSOR_LOG_DIR = 'conv-logs'\n",
    "\n",
    "__LABELS = 10\n",
    "__IM_SIZE = 32\n",
    "__N_DIGITS = 4"
   ]
  },
  {
   "cell_type": "markdown",
   "metadata": {},
   "source": [
    "## Dataset\n",
    "\n",
    "480 Images consisting of 4 digit postal codes with the label as the file name e.g. `3365.png`."
   ]
  },
  {
   "cell_type": "code",
   "execution_count": 2,
   "metadata": {},
   "outputs": [],
   "source": [
    "def binarize(image):\n",
    "    \"\"\"\n",
    "    Returns a binarized image where lighter values are set to 255 and the lower values set to 0.\n",
    "    \"\"\"\n",
    "    blur = cv2.GaussianBlur(image, (5, 5), 0)\n",
    "    _, thresh = cv2.threshold(blur, 0, 255, cv2.THRESH_BINARY + cv2.THRESH_OTSU)\n",
    "    return thresh\n",
    "\n",
    "def crop(image):\n",
    "    \"\"\"\n",
    "    Crop an 128x32 image to 4 32x32 images\n",
    "    \"\"\"\n",
    "    digits = []\n",
    "    x,y,w,h = 0,0,__IM_SIZE,__IM_SIZE\n",
    "    for i in range(__N_DIGITS):\n",
    "        x = i*w\n",
    "        digits.append(image[y:y+h, x:x+w])\n",
    "    return digits\n",
    "\n",
    "def get_images_in_path(path, extension):\n",
    "    \"\"\"\n",
    "    Create a list of all images and their file names (labels) in a certain path\n",
    "    \"\"\"\n",
    "    images = []\n",
    "    labels = []\n",
    "    for name in os.listdir(path):\n",
    "        if name.endswith(extension):\n",
    "            img = cv2.imread(os.path.join(path, name), cv2.IMREAD_GRAYSCALE)\n",
    "            label = name[:-len(extension)] # remove extension\n",
    "            digits = crop(binarize(img))\n",
    "            for i in range(__N_DIGITS):\n",
    "                images.append(digits[i])\n",
    "                labels.append(int(label[i]))\n",
    "    return np.array(images, dtype=np.int32), np.array(labels, dtype=np.int32)"
   ]
  },
  {
   "cell_type": "markdown",
   "metadata": {},
   "source": [
    "### Creating the dataset\n",
    "\n",
    "We split the 480 images in 1920 individual black-and-white digits and save them with their correct label as a tuple in a list. We also binarize the images so there is less noise in the images."
   ]
  },
  {
   "cell_type": "code",
   "execution_count": 3,
   "metadata": {},
   "outputs": [],
   "source": [
    "images, labels = get_images_in_path(__DATA_PATH, '.png')"
   ]
  },
  {
   "cell_type": "markdown",
   "metadata": {},
   "source": [
    "Let's see what kind of digits are in the set by plotting them with their labels:"
   ]
  },
  {
   "cell_type": "code",
   "execution_count": 4,
   "metadata": {},
   "outputs": [
    {
     "name": "stdout",
     "output_type": "stream",
     "text": [
      "Size of dataset: 1920 images\n"
     ]
    },
    {
     "data": {
      "image/png": "[encoded data removed]",
      "text/plain": [
       "<Figure size 1080x216 with 60 Axes>"
      ]
     },
     "metadata": {},
     "output_type": "display_data"
    }
   ],
   "source": [
    "print(\"Size of dataset: {len} images\".format(len=len(images)))\n",
    "\n",
    "PLOT_SIZE = 60\n",
    "ROW_WIDTH = 20\n",
    "plt.figure(figsize=(15, PLOT_SIZE / ROW_WIDTH))\n",
    "for i in range(PLOT_SIZE):\n",
    "    plt.subplot(PLOT_SIZE / ROW_WIDTH, ROW_WIDTH, i + 1)\n",
    "    plt.xticks([])\n",
    "    plt.yticks([])\n",
    "    plt.grid(False)\n",
    "    plt.xlabel(labels[i])\n",
    "    plt.imshow(images[i], cmap=plt.cm.binary)"
   ]
  },
  {
   "cell_type": "markdown",
   "metadata": {},
   "source": [
    "We are also curious how well the digits are distributed:"
   ]
  },
  {
   "cell_type": "code",
   "execution_count": 5,
   "metadata": {},
   "outputs": [
    {
     "data": {
      "text/plain": [
       "9    0.106250\n",
       "7    0.103646\n",
       "3    0.103646\n",
       "1    0.103125\n",
       "6    0.101562\n",
       "2    0.101562\n",
       "5    0.097396\n",
       "4    0.096875\n",
       "8    0.093750\n",
       "0    0.092188\n",
       "Name: label, dtype: float64"
      ]
     },
     "execution_count": 5,
     "metadata": {},
     "output_type": "execute_result"
    }
   ],
   "source": [
    "df = pd.DataFrame(labels, columns=['label'])\n",
    "df.label.value_counts() / len(df.index)"
   ]
  },
  {
   "cell_type": "markdown",
   "metadata": {},
   "source": [
    "Unlike the Yahtzee dataset labels, the distribution of the digits is almost perfect. There are about 10% of every digit in the dataset. Which is pretty equally distributed. This is very good for our deep learning model, because it will prevent bias for a certain label."
   ]
  },
  {
   "cell_type": "markdown",
   "metadata": {},
   "source": [
    "#### One-Hot Eencoding\n",
    "\n",
    "To compare the labels with the predictions of the neural network we need to 'one-hot' encode the labels:\n",
    "\n",
    "The index of the `1` is the correct label of the data."
   ]
  },
  {
   "cell_type": "code",
   "execution_count": 6,
   "metadata": {},
   "outputs": [
    {
     "name": "stdout",
     "output_type": "stream",
     "text": [
      "One hot encoded labels:\n",
      "[[0. 0. 0. 0. 0. 0. 1. 0. 0. 0.]\n",
      " [0. 0. 0. 0. 0. 0. 0. 0. 1. 0.]\n",
      " [0. 1. 0. 0. 0. 0. 0. 0. 0. 0.]\n",
      " [0. 0. 0. 0. 0. 0. 0. 0. 0. 1.]\n",
      " [0. 0. 0. 1. 0. 0. 0. 0. 0. 0.]]\n"
     ]
    }
   ],
   "source": [
    "def one_hot_encode(labels):\n",
    "    onehot = np.zeros((len(labels), __LABELS))\n",
    "    onehot[range(len(labels)), labels] = 1\n",
    "    return onehot\n",
    "\n",
    "onehot = one_hot_encode(labels)\n",
    "print('One hot encoded labels:')\n",
    "print(onehot[:5])"
   ]
  },
  {
   "cell_type": "markdown",
   "metadata": {},
   "source": [
    "We combine the data and the labels to be able to shuffle them without forgetting which labels belong to which images."
   ]
  },
  {
   "cell_type": "code",
   "execution_count": 7,
   "metadata": {},
   "outputs": [
    {
     "name": "stdout",
     "output_type": "stream",
     "text": [
      "Images shape: (1920, 32, 32, 1)\n",
      "Labels shape: (1920, 10)\n"
     ]
    }
   ],
   "source": [
    "def get_shuffled_xy(images, onehot):\n",
    "    data = np.array([np.array([images[i], onehot[i]]) for i in range(len(images))])\n",
    "    shuffled_data = np.random.permutation(data)\n",
    "    x = np.array([t[0] for t in shuffled_data])\n",
    "    x = np.reshape(x, (len(x), 32, 32, 1))\n",
    "    y = np.array([t[1] for t in shuffled_data])\n",
    "    return x, y\n",
    "\n",
    "X, Y = get_shuffled_xy(images, onehot)\n",
    "\n",
    "print('Images shape: {}'.format(X.shape))\n",
    "print('Labels shape: {}'.format(Y.shape))"
   ]
  },
  {
   "cell_type": "markdown",
   "metadata": {},
   "source": [
    "We split the data into train, test, and validation sets.\n",
    "\n",
    "We use the train set to train; the test set to cross-validate during training; and the validation set to validate the model after the model is done training."
   ]
  },
  {
   "cell_type": "code",
   "execution_count": 8,
   "metadata": {},
   "outputs": [
    {
     "name": "stdout",
     "output_type": "stream",
     "text": [
      "Split X (train, test, validation): (1387, 32, 32, 1) (245, 32, 32, 1) (288, 32, 32, 1)\n",
      "Split Y (train, test, validation): (1387, 10) (245, 10) (288, 10)\n"
     ]
    }
   ],
   "source": [
    "def get_split(x, y, frac):\n",
    "    split = int(len(x) * frac)\n",
    "    return x[:split], y[:split], x[split:], y[split:]\n",
    "\n",
    "X_train, Y_train, X_valid, Y_valid = get_split(X, Y, .85)\n",
    "X_train, Y_train, X_test, Y_test = get_split(X_train, Y_train, .85)\n",
    "\n",
    "print('Split X (train, test, validation):', X_train.shape, X_test.shape, X_valid.shape)\n",
    "print('Split Y (train, test, validation):', Y_train.shape, Y_test.shape, Y_valid.shape)"
   ]
  },
  {
   "cell_type": "markdown",
   "metadata": {},
   "source": [
    "We define a function that returns a random batch of a certain size. This batch is used in training to train faster."
   ]
  },
  {
   "cell_type": "code",
   "execution_count": 9,
   "metadata": {},
   "outputs": [],
   "source": [
    "def get_batch(x, y, size):\n",
    "    batch = np.array([(x[i], y[i]) for i in range(len(x))])\n",
    "    random_batch = np.random.permutation(batch)[:size]\n",
    "    return np.array([x[0] for x in random_batch]), np.array([x[1] for x in random_batch])"
   ]
  },
  {
   "cell_type": "markdown",
   "metadata": {},
   "source": [
    "We also define a function that does all the above so we can load an arbitrary dataset:"
   ]
  },
  {
   "cell_type": "code",
   "execution_count": 10,
   "metadata": {},
   "outputs": [],
   "source": [
    "def get_folder_xy(path, extension):\n",
    "    images, labels = get_images_in_path(path, extension)\n",
    "    return get_shuffled_xy(images, one_hot_encode(labels))"
   ]
  },
  {
   "cell_type": "markdown",
   "metadata": {},
   "source": [
    "## Models\n",
    "\n",
    "We designed several models which were run with an iteration count of 1500 and a batch size of 20\n",
    "\n",
    "rank | name | layers | optimizer | score\n",
    "--- | --- | --- | --- | ---\n",
    "5 | model_1 | Conv2D(f=64, k=3, s=1, act=relu) | Adam | 0.9444444\n",
    "6 | model_2 | Conv2D(f=64, k=5, act=relu), MaxPool2D(size=2, s=2) | Adam | 0.9166667\n",
    "4 | model_3 | Conv2D(f=32, k=3, s=1, act=relu), Conv2D(f=64, k=3, s=1, act=relu), MaxPool2D(size=2, s=2), Dropout(0.25), Dense(128, act=relu), Dropout(0.5) | Adam | 0.9444444\n",
    "2 | model_4 | Conv2D(f=32, k=3, s=1, act=relu), BatchNorm, Conv2D(f=32, k=3, s=1, act=relu), BatchNorm, MaxPool2D(size=2, s=2), Conv2D(f=64, k=3, s=1, act=relu), BatchNorm, Conv2D(f=64, k=3, s=1, act=relu), BatchNorm, Dense(512, act=relu), Dropout(0.2) | Adam | 0.9652778\n",
    "3 | model_5 | Conv2D(f=32, k=5, s=1, act=relu), Conv2D(f=32, k=5, s=1, act=relu), MaxPool2D(size=2, s=2), Dropout(.25), Conv2D(f=64, k=3, s=1, act=relu), Conv2D(f=64, k=3, s=1, act=relu), MaxPool2D(size=2, s=2), Dropout(.25), Dense(256, act=relu), Dropout(.5) | RMSProp | 0.9513889\n",
    "1 | model_6 | Conv2D(f=32, k=5, s=1, act=relu, pad=valid), Conv2D(f=32, k=5, s=1, act=relu, pad=valid), BatchNorm, MaxPool2D(size=2, s=1), Dropout(.2), Conv2D(f=64, k=3, s=1, act=relu, pad=same), Conv2D(f=64, k=3, s=1, act=relu, pad=same), BatchNorm, MaxPool2D(size=2, s=1), Dropout(.25), Conv2D(f=128, k=3, s=1, act=relu, pad=same), Dropout(.25), Dense(128), BatchNorm, Dropout(.25) | RMSProp | 0.9826389"
   ]
  },
  {
   "cell_type": "markdown",
   "metadata": {},
   "source": [
    "- Model 1: BLUE\n",
    "- Model 2: RED\n",
    "- Model 3: LIGHT BLUE\n",
    "- Model 4: PINK\n",
    "- Model 5: GREEN\n",
    "- Model 6: GRAY\n",
    "- Model 7: ORANGE\n",
    "- Model 8: ORANGE\n",
    "\n",
    "### Batch Accuracy\n",
    "\n",
    "\n",
    "### Batch Loss\n"
   ]
  },
  {
   "cell_type": "code",
   "execution_count": 11,
   "metadata": {},
   "outputs": [],
   "source": [
    "def model_1(x, output_shape, is_training):\n",
    "    \"\"\"\n",
    "    One Conv2d layer with a kernel size of 3 and \n",
    "    \"\"\"\n",
    "    conv1 = tf.layers.conv2d(x, filters=32, kernel_size=3, strides=1, padding=\"same\", \n",
    "                           activation=tf.nn.relu)\n",
    "    \n",
    "    flatten = tf.contrib.layers.flatten(conv1)\n",
    "    return tf.layers.dense(flatten, units=output_shape, activation=None)"
   ]
  },
  {
   "cell_type": "code",
   "execution_count": 12,
   "metadata": {},
   "outputs": [],
   "source": [
    "def model_2(x, output_shape, is_training):\n",
    "    \"\"\"\n",
    "    \"\"\"\n",
    "    conv1 = tf.layers.conv2d(x, filters=32, kernel_size=5, \n",
    "                             padding=\"same\", activation=tf.nn.relu)\n",
    "    pool1 = tf.layers.max_pooling2d(conv1, pool_size=2, strides=2)\n",
    "    \n",
    "    flatten = tf.contrib.layers.flatten(pool1)\n",
    "    return tf.layers.dense(flatten, units=output_shape, activation=None)"
   ]
  },
  {
   "cell_type": "code",
   "execution_count": 13,
   "metadata": {},
   "outputs": [],
   "source": [
    "def model_3(x, output_shape, is_training):\n",
    "    \"\"\"\n",
    "    \"\"\"\n",
    "    #32 convolution filters used each of size 3x3\n",
    "    conv1 = tf.layers.conv2d(x, filters=32, kernel_size = 3,\n",
    "                         strides = 1, padding=\"same\",\n",
    "                         activation = tf.nn.relu)\n",
    "    \n",
    "    #64 convolution filters used each of size 3x3\n",
    "    conv2 = tf.layers.conv2d(conv1, filters=64, kernel_size = 3,\n",
    "                         strides = 1, padding=\"same\",\n",
    "                         activation = tf.nn.relu)\n",
    "    \n",
    "    #choose the best features via pooling\n",
    "    pool1 = tf.layers.max_pooling2d(conv2, pool_size=2, strides=2)\n",
    "    \n",
    "    #randomly turn neurons on and off to improve convergence\n",
    "    dropout1 = tf.layers.dropout(pool1, rate=.25)\n",
    "    \n",
    "    #flatten since too many dimensions, we only want a classification output\n",
    "    flatten = tf.contrib.layers.flatten(dropout1)\n",
    "\n",
    "    #fully connected to get all relevant data\n",
    "    dense = tf.layers.dense(flatten, units=128, activation=tf.nn.relu)\n",
    "    \n",
    "    #one more dropout for convergence' sake :) \n",
    "    dropout2 = tf.layers.dropout(dense, rate=.5)\n",
    "\n",
    "    return tf.layers.dense(dropout2, units=output_shape, activation=None)"
   ]
  },
  {
   "cell_type": "code",
   "execution_count": 14,
   "metadata": {},
   "outputs": [],
   "source": [
    "def model_4(x, output_shape, is_training):\n",
    "    conv1 = tf.layers.conv2d(x, filters=32, kernel_size = 3,\n",
    "                         strides = 1, padding=\"same\",\n",
    "                         activation = tf.nn.relu)\n",
    "    batch_norm1 = tf.layers.batch_normalization(conv1, training=is_training)\n",
    "    \n",
    "    conv2 = tf.layers.conv2d(batch_norm1, filters=32, kernel_size = 3,\n",
    "                         strides = 1, padding=\"same\",\n",
    "                         activation = tf.nn.relu)\n",
    "    batch_norm2 = tf.layers.batch_normalization(conv2, training=is_training)\n",
    "        \n",
    "    pool1 = tf.layers.max_pooling2d(batch_norm2, pool_size=2, strides=2)\n",
    "\n",
    "    conv3 = tf.layers.conv2d(pool1, filters=64, kernel_size = 3,\n",
    "                         strides = 1, padding=\"same\",\n",
    "                         activation = tf.nn.relu)\n",
    "    batch_norm3 = tf.layers.batch_normalization(conv3, training=is_training)\n",
    "\n",
    "    \n",
    "    conv4 = tf.layers.conv2d(batch_norm3, filters=64, kernel_size = 3,\n",
    "                         strides = 1, padding=\"same\",\n",
    "                         activation = tf.nn.relu)\n",
    "    batch_norm4 = tf.layers.batch_normalization(conv4, training=is_training)\n",
    "\n",
    "    pool2 = tf.layers.max_pooling2d(batch_norm4, pool_size=2, strides=2)\n",
    "\n",
    "    flatten = tf.contrib.layers.flatten(pool2)\n",
    "\n",
    "    # Fully connected layer\n",
    "    dense = tf.layers.dense(flatten, units=512, activation=tf.nn.relu)\n",
    "\n",
    "    dropout = tf.layers.dropout(dense, rate=.2)\n",
    "    \n",
    "    return tf.layers.dense(dropout, units=output_shape, activation=None)"
   ]
  },
  {
   "cell_type": "code",
   "execution_count": 15,
   "metadata": {},
   "outputs": [],
   "source": [
    "def model_5(x, output_shape, is_training):\n",
    "    \"\"\"\n",
    "    \"\"\"\n",
    "    conv1 = tf.layers.conv2d(x, filters=32, kernel_size = 5,\n",
    "                         strides = 1, padding=\"same\",\n",
    "                         activation = tf.nn.relu)\n",
    "    conv2 = tf.layers.conv2d(conv1, filters=32, kernel_size = 5,\n",
    "                         strides = 1, padding=\"same\",\n",
    "                         activation = tf.nn.relu)\n",
    "    pool1 = tf.layers.max_pooling2d(conv2, pool_size=2, strides=2)\n",
    "    dropout1 = tf.layers.dropout(pool1, rate=.25)\n",
    "    \n",
    "    conv3 = tf.layers.conv2d(x, filters=64, kernel_size = 3,\n",
    "                         strides = 1, padding=\"same\",\n",
    "                         activation = tf.nn.relu)\n",
    "    conv4 = tf.layers.conv2d(conv3, filters=64, kernel_size = 3,\n",
    "                         strides = 1, padding=\"same\",\n",
    "                         activation = tf.nn.relu)\n",
    "    pool2 = tf.layers.max_pooling2d(conv4, pool_size=2, strides=2)\n",
    "    dropout2 = tf.layers.dropout(pool2, rate=.25)\n",
    "    \n",
    "    flatten = tf.contrib.layers.flatten(dropout2)\n",
    "    dense = tf.layers.dense(flatten, units=256, activation=tf.nn.relu)\n",
    "    dropout = tf.layers.dropout(dense, rate=.5)\n",
    "\n",
    "    return tf.layers.dense(dropout, units=output_shape, activation=None)"
   ]
  },
  {
   "cell_type": "code",
   "execution_count": 80,
   "metadata": {},
   "outputs": [],
   "source": [
    "def model_6(x, output_shape, is_training):\n",
    "    \n",
    "    conv1 = tf.layers.conv2d(x, filters=32, kernel_size=5,\n",
    "                         strides=1, padding=\"valid\",\n",
    "                         kernel_initializer=tf.contrib.layers.xavier_initializer(uniform=False),\n",
    "                         activation=tf.nn.relu)\n",
    "    conv2 = tf.layers.conv2d(conv1, filters=32, kernel_size=5,\n",
    "                         strides=1, padding=\"valid\",\n",
    "                         kernel_initializer=tf.contrib.layers.xavier_initializer(uniform=False),\n",
    "                         activation=tf.nn.relu)\n",
    "    batch_norm1 = tf.layers.batch_normalization(conv2, training=is_training)\n",
    "    \n",
    "    pool1 = tf.layers.max_pooling2d(batch_norm1, pool_size=2, strides=1)\n",
    "    dropout1 = tf.layers.dropout(pool1, rate=.2)\n",
    "    \n",
    "    conv3 = tf.layers.conv2d(dropout1, filters=64, kernel_size=3,\n",
    "                         strides=1, padding=\"same\",\n",
    "                         kernel_initializer=tf.contrib.layers.xavier_initializer(uniform=False),\n",
    "                         activation=tf.nn.relu)\n",
    "    conv4 = tf.layers.conv2d(conv3, filters=64, kernel_size=3,\n",
    "                         strides=1, padding=\"same\",\n",
    "                         kernel_initializer=tf.contrib.layers.xavier_initializer(uniform=False),\n",
    "                         activation=tf.nn.relu)\n",
    "    batch_norm2 = tf.layers.batch_normalization(conv4, training=is_training)\n",
    "    \n",
    "    pool2 = tf.layers.max_pooling2d(batch_norm2, pool_size=2, strides=1)\n",
    "    dropout2 = tf.layers.dropout(pool2, rate=.25)\n",
    "    \n",
    "    conv4 = tf.layers.conv2d(dropout2, filters=128, kernel_size=3,\n",
    "                         strides=1, padding=\"same\",\n",
    "                         kernel_initializer=tf.contrib.layers.xavier_initializer(uniform=False),\n",
    "                         activation=tf.nn.relu)\n",
    "    \n",
    "    dropout3 = tf.layers.dropout(conv4, rate=.25)\n",
    "    flatten = tf.contrib.layers.flatten(dropout3)\n",
    "    dense = tf.layers.dense(flatten, units=128, activation=tf.nn.relu)\n",
    "    \n",
    "    batch_norm3 = tf.layers.batch_normalization(dense, training=is_training)\n",
    "    dropout = tf.layers.dropout(batch_norm3, rate=.25)\n",
    "    \n",
    "    return tf.layers.dense(dropout, units=output_shape, activation=None)"
   ]
  },
  {
   "cell_type": "markdown",
   "metadata": {},
   "source": [
    "We start with the placeholder for our 32x32 pixel input and 10-class output and choose a model:"
   ]
  },
  {
   "cell_type": "code",
   "execution_count": 17,
   "metadata": {},
   "outputs": [],
   "source": [
    "def setup_model(model):\n",
    "    tf.reset_default_graph()\n",
    "    x = tf.placeholder(tf.float32, shape=[None, X_train.shape[1], X_train.shape[2], 1], name='x')\n",
    "    y = tf.placeholder(tf.float32, shape=[None, Y_train.shape[1]], name='y')\n",
    "    is_training = tf.placeholder(tf.bool, name='is_training')\n",
    "    return x, y, is_training, model(x, Y_train.shape[1], is_training)"
   ]
  },
  {
   "cell_type": "markdown",
   "metadata": {},
   "source": [
    "We choose an optimizer and define a loss functon and the accuracy metric:"
   ]
  },
  {
   "cell_type": "code",
   "execution_count": 58,
   "metadata": {},
   "outputs": [],
   "source": [
    "def setup_ops(y, y_pred):\n",
    "    # Loss function\n",
    "    cross_entropy = tf.nn.softmax_cross_entropy_with_logits_v2(labels=y, logits=y_pred)\n",
    "    loss_fn = tf.reduce_mean(cross_entropy)\n",
    "\n",
    "    # Optimizer minimizes the loss\n",
    "#     optimizer = tf.train.AdamOptimizer(learning_rate=.0003)\n",
    "    optimizer = tf.train.RMSPropOptimizer(learning_rate=0.001)\n",
    "\n",
    "    update_ops = tf.get_collection(tf.GraphKeys.UPDATE_OPS)\n",
    "    with tf.control_dependencies(update_ops):\n",
    "        train_op = optimizer.minimize(loss_fn)\n",
    "\n",
    "    # Accuracy metric\n",
    "    #   checks if the indices of the highest values in the real \n",
    "    #   and predicted arrays are equal\n",
    "    pred_op = tf.argmax(y_pred, axis=1)\n",
    "    label_op = tf.argmax(y, axis=1)\n",
    "    correct_op = tf.equal(label_op, pred_op)\n",
    "    accuracy = tf.reduce_mean(tf.cast(correct_op, tf.float32))\n",
    "    return loss_fn, train_op, pred_op, label_op, correct_op, accuracy"
   ]
  },
  {
   "cell_type": "markdown",
   "metadata": {},
   "source": [
    "## Train, Test, Validate\n",
    "\n",
    "We train the model using a certain batch size and for a number of iterations while posting scalars to TensorBoard:"
   ]
  },
  {
   "cell_type": "code",
   "execution_count": 59,
   "metadata": {
    "scrolled": true
   },
   "outputs": [],
   "source": [
    "def train_model(model, data, split_frac=.85, verbose=2, save=False):\n",
    "    X, Y = data\n",
    "    x, y, is_training, y_pred = setup_model(model)\n",
    "    loss_fn, train_op, _, _, _, accuracy = setup_ops(y, y_pred)\n",
    "    \n",
    "    iters = (32*50) \n",
    "    train_batch_size = 20\n",
    "\n",
    "    X_train, Y_train, X_valid, Y_valid = get_split(X, Y, split_frac)    \n",
    "    X_train, Y_train, X_test, Y_test = get_split(X_train, Y_train, split_frac)\n",
    "\n",
    "    init_op = tf.global_variables_initializer()\n",
    "    saver = tf.train.Saver()\n",
    "    session = tf.Session()\n",
    "    with session:\n",
    "        session.run(init_op)\n",
    "\n",
    "        # Defining the metrics we want to log in TensorBoard\n",
    "        sum_loss_train = tf.summary.scalar('loss_train', loss_fn)\n",
    "        sum_loss_test = tf.summary.scalar('loss_test', loss_fn)\n",
    "        sum_acc_train = tf.summary.scalar('acc_train', accuracy)\n",
    "        sum_acc_test = tf.summary.scalar('acc_test', accuracy)\n",
    "        tf.summary.merge_all()\n",
    "        writer = tf.summary.FileWriter(os.path.join(__TENSOR_LOG_DIR, model.__name__), session.graph)\n",
    "\n",
    "        # Start training for a certain number of iterations\n",
    "        for i in range(iters):\n",
    "            # Every iteration we get a random batch of the training data\n",
    "            x_batch, y_batch = get_batch(X_train, Y_train, train_batch_size)\n",
    "            # We train the model by providing the 'optimizer' variable to the run function.\n",
    "            # We also want to calculate the accuracy and loss TensorBoard metrics\n",
    "            train_op_val, acc_val, sum_1, sum_2 = session.run([train_op, accuracy, \n",
    "                                                           sum_loss_train, sum_acc_train], \n",
    "                                                           feed_dict={x: x_batch, y: y_batch, is_training: 1})\n",
    "            # Write the metrics to TensorBoard\n",
    "            writer.add_summary(sum_1, global_step=i)\n",
    "            writer.add_summary(sum_2, global_step=i)\n",
    "\n",
    "            # Validate every 50 iterations\n",
    "            if i % 50 == 0:\n",
    "                # DO NOT PROVIDE THE 'optimzer' VARIABLE HERE\n",
    "                # ELSE THE MODEL WILL TRAIN ON THE TEST DATA\n",
    "                acc_val, sum_1, sum_2 = session.run([accuracy, sum_loss_test, sum_acc_test], \n",
    "                                                    feed_dict={x: X_test, y: Y_test, is_training: 0})\n",
    "                # Write the metrics to TensorBoard\n",
    "                writer.add_summary(sum_1, global_step=i)\n",
    "                writer.add_summary(sum_2, global_step=i)\n",
    "                if verbose >= 2:\n",
    "                    print('Validation - i:', i+1, ' Accuracy:', acc_val)\n",
    "\n",
    "\n",
    "        # Validate the model with unseen data\n",
    "        acc_ = session.run([accuracy], feed_dict={x: X_valid, y: Y_valid, is_training: 0})\n",
    "        if verbose >= 1:\n",
    "            print('Validation accuracy:', acc_)\n",
    "\n",
    "        # Save the model\n",
    "        if save:\n",
    "            path = saver.save(session, '{}.ckpt'.format(os.path.join(__MODEL_PATH, model.__name__, model.__name__)))\n",
    "            if verbose >= 1:\n",
    "                print('Model saved at: {}'.format(path))\n",
    "    \n",
    "        return acc_\n",
    "    "
   ]
  },
  {
   "cell_type": "code",
   "execution_count": 82,
   "metadata": {},
   "outputs": [
    {
     "name": "stdout",
     "output_type": "stream",
     "text": [
      "Validation - i: 1  Accuracy: 0.19591837\n",
      "Validation - i: 51  Accuracy: 0.62857145\n",
      "Validation - i: 101  Accuracy: 0.8530612\n",
      "Validation - i: 151  Accuracy: 0.7020408\n",
      "Validation - i: 201  Accuracy: 0.877551\n",
      "Validation - i: 251  Accuracy: 0.9142857\n",
      "Validation - i: 301  Accuracy: 0.955102\n",
      "Validation - i: 351  Accuracy: 0.9918367\n",
      "Validation - i: 401  Accuracy: 0.97959185\n",
      "Validation - i: 451  Accuracy: 0.9755102\n",
      "Validation - i: 501  Accuracy: 0.9755102\n",
      "Validation - i: 551  Accuracy: 0.98367345\n",
      "Validation - i: 601  Accuracy: 0.9918367\n",
      "Validation - i: 651  Accuracy: 0.9918367\n",
      "Validation - i: 701  Accuracy: 0.97959185\n",
      "Validation - i: 751  Accuracy: 0.9877551\n",
      "Validation - i: 801  Accuracy: 0.98367345\n",
      "Validation - i: 851  Accuracy: 0.97959185\n",
      "Validation - i: 901  Accuracy: 0.9877551\n",
      "Validation - i: 951  Accuracy: 0.9755102\n",
      "Validation - i: 1001  Accuracy: 0.97959185\n",
      "Validation - i: 1051  Accuracy: 0.9918367\n",
      "Validation - i: 1101  Accuracy: 0.9918367\n",
      "Validation - i: 1151  Accuracy: 0.9918367\n",
      "Validation - i: 1201  Accuracy: 0.9877551\n",
      "Validation - i: 1251  Accuracy: 0.9959184\n",
      "Validation - i: 1301  Accuracy: 0.9755102\n",
      "Validation - i: 1351  Accuracy: 0.97959185\n",
      "Validation - i: 1401  Accuracy: 0.97959185\n",
      "Validation - i: 1451  Accuracy: 0.98367345\n",
      "Validation - i: 1501  Accuracy: 0.9918367\n",
      "Validation - i: 1551  Accuracy: 0.9877551\n",
      "Validation accuracy: [0.9722222]\n",
      "Model saved at: conv-models/model_6/model_6.ckpt\n"
     ]
    },
    {
     "data": {
      "text/plain": [
       "[0.9722222]"
      ]
     },
     "execution_count": 82,
     "metadata": {},
     "output_type": "execute_result"
    }
   ],
   "source": [
    "train_model(model_6, (X, Y), verbose=2, save=True)"
   ]
  },
  {
   "cell_type": "markdown",
   "metadata": {},
   "source": [
    "### Cross Validation\n",
    "\n",
    "We shuffle and train the model multiple times to rule out luck:"
   ]
  },
  {
   "cell_type": "code",
   "execution_count": 44,
   "metadata": {},
   "outputs": [],
   "source": [
    "def cross_validate_train(model, dir_path, cv=3, split_frac=.85):\n",
    "    accuracies = []\n",
    "    for i in range(cv):\n",
    "        print('{}/{}'.format(i, cv))\n",
    "        accuracies.append(train_model(model, get_folder_xy(dir_path, \".png\"), verbose=0, save=False))\n",
    "    return cv, np.mean(accuracies)"
   ]
  },
  {
   "cell_type": "code",
   "execution_count": 45,
   "metadata": {},
   "outputs": [
    {
     "name": "stdout",
     "output_type": "stream",
     "text": [
      "0/3\n",
      "1/3\n",
      "2/3\n",
      "Cross validation (3x): 0.9872685074806213\n"
     ]
    }
   ],
   "source": [
    "cv, mean_acc = cross_validate_train(model_6, __DATA_PATH)\n",
    "print('Cross validation ({}x): {}'.format(cv, mean_acc))"
   ]
  },
  {
   "cell_type": "markdown",
   "metadata": {},
   "source": [
    "## Loading a Saved Model\n",
    "\n",
    "_Note: This requires all cells up to 'Train, Test, Validate' to be executed._"
   ]
  },
  {
   "cell_type": "code",
   "execution_count": null,
   "metadata": {},
   "outputs": [],
   "source": [
    "\"\"\"\n",
    "EDIT THIS TO RUN BEST MODEL\n",
    "\"\"\"\n",
    "__TEACHER_VALIDATION_PATH = 'dataset-images'\n",
    "__TEACHER_VALIDATION_EXTENSTION = '.png'"
   ]
  },
  {
   "cell_type": "markdown",
   "metadata": {},
   "source": [
    "We load the model and the dataset and run just the accuracy metric:"
   ]
  },
  {
   "cell_type": "code",
   "execution_count": null,
   "metadata": {},
   "outputs": [],
   "source": [
    "model_to_load = model_6\n",
    "\n",
    "load_path = '{}.ckpt'.format(os.path.join(__MODEL_PATH, \n",
    "                                          model_to_load.__name__, \n",
    "                                          model_to_load.__name__))\n",
    "\n",
    "X_teacher, Y_teacher = get_folder_xy(__TEACHER_VALIDATION_PATH, __TEACHER_VALIDATION_EXTENSTION)\n",
    "\n",
    "with tf.Session() as saved_session:\n",
    "    tf.train.Saver().restore(saved_session, load_path)\n",
    "\n",
    "    # Validate the model with unseen data\n",
    "    acc_, correct_, prediction_, label_ = saved_session.run([accuracy, correct, prediction, real_label], \n",
    "                                                             feed_dict={x: X_teacher, y: Y_teacher, is_training: 0})\n",
    "    print('Validation accuracy imported {}: {}'.format(model_to_load.__name__, acc_))"
   ]
  },
  {
   "cell_type": "markdown",
   "metadata": {},
   "source": [
    "## Conclusion\n",
    "\n",
    "### Dataset\n",
    "\n",
    "- The dataset only contains 1920 individual digits. This should be way too less to properly train a neural network.\n",
    "- The digits in the dataset are almost perfectly distributed; unlike Yahtzee. This prevents the model from learning a bias for more ocurring labels.\n",
    "\n",
    "### Model\n",
    "\n",
    "- We could clearly see when a model was overfitting when the validation accuracy was more than 1-2 percent lower than the testing accuracy.\n",
    "  - When this occured we increased the amount of dropout or we reduced the number of neurons in one ore more layers.\n",
    "\n",
    "#### Filter sizes\n",
    "- We created different scenarios for the convolutional layers. For Conv2D we chose to use 32, 64 or 128 filters. We saw that the accuracy increased when using two convolutional layers of the same size before pooling. \n",
    "\n",
    "#### Activation Functions\n",
    "- We tried to change the activation function of our best model (6). We changed it from ReLu to Tanh, but this didn't seem to help. Our accuracy dropped from 97,6% to 93,4%.\n",
    "\n",
    "#### Optimizers\n",
    "- At first, we used the Adam optimizers for optimizing our neural networks, but after searching for other neural networks on the internet we saw that they were using the RMSProp optimizer. We tried it out on our models and model 5 and 6 saw an increase in accuracy of 1%. \n",
    "\n",
    "#### Kernels & Strides\n",
    "- We used two different kernel sizes for our convolutional layers. We used 3x3 and 5x5. We first created model 6 with the first 2 convolutional layers with a kernel size of 3x3. The score was 97,6%, but when we used a 5x5 kernel size on the first 2 conv layers the accuracy hit 98,3%! We think that there is a relation between the convolutional filters and the kernel size. A bigger kernel size on less filters and a smaller kernel size on a bigger filter should retrieve higher percentages. \n",
    "\n",
    "#### Batch Normalization\n",
    "- With Batch Normalization we saw a decrease in accuracy of 1,5% when we removed it from model 6. It makes a big difference."
   ]
  },
  {
   "cell_type": "code",
   "execution_count": null,
   "metadata": {},
   "outputs": [],
   "source": []
  }
 ],
 "metadata": {
  "kernelspec": {
   "display_name": "Python 3",
   "language": "python",
   "name": "python3"
  },
  "language_info": {
   "codemirror_mode": {
    "name": "ipython",
    "version": 3
   },
   "file_extension": ".py",
   "mimetype": "text/x-python",
   "name": "python",
   "nbconvert_exporter": "python",
   "pygments_lexer": "ipython3",
   "version": "3.7.1"
  }
 },
 "nbformat": 4,
 "nbformat_minor": 2
}
