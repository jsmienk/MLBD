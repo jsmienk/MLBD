{
 "cells": [
  {
   "cell_type": "markdown",
   "metadata": {},
   "source": [
    "# Yahtzee Dataset"
   ]
  },
  {
   "cell_type": "code",
   "execution_count": 5,
   "metadata": {},
   "outputs": [],
   "source": [
    "import numpy as np\n",
    "import pandas as pd\n",
    "\n",
    "df = pd.read_csv('yahtzee-dataset.csv')"
   ]
  },
  {
   "cell_type": "code",
   "execution_count": 2,
   "metadata": {},
   "outputs": [],
   "source": [
    "DICE = 5\n",
    "EYES = 6\n",
    "\n",
    "\n",
    "def inc_dice_cnt(i):\n",
    "    \"\"\"\n",
    "    Moves to the next dice combination\n",
    "    \"\"\"\n",
    "    if i == DICE:\n",
    "        return\n",
    "    dice_count[i] += 1\n",
    "    if dice_count[i] == EYES:\n",
    "        dice_count[i] = 0\n",
    "        inc_dice_cnt(i+1)\n",
    "\n",
    "\n",
    "def get_cnt(arr):\n",
    "    \"\"\"\n",
    "    Get an occurences array with the count of a value at the index of that value\n",
    "    \n",
    "    get_cnt([0, 1, 1, 3, 3]) == [1, 2, 0, 2, 0]\n",
    "    \"\"\"\n",
    "    cnt = np.zeros(EYES)\n",
    "    for i in arr:\n",
    "        cnt[i] += 1\n",
    "    return cnt\n",
    "\n",
    "\n",
    "def get_seq(arr):\n",
    "    \"\"\"\n",
    "    Get the largest number of sequential numbers in the array\n",
    "    \n",
    "    get_seq([0, 5, 3, 2, 4]) == 4\n",
    "    \"\"\"\n",
    "    sort = np.unique(sorted(arr))\n",
    "    seq, top_seq = 0, 0\n",
    "    for i in range(1, len(sort)):\n",
    "        if sort[i] - 1 == sort[i-1]:\n",
    "            seq += 1\n",
    "        else:\n",
    "            top_seq = max(seq, top_seq)\n",
    "            seq = 0\n",
    "    return max(seq, top_seq)+1\n",
    "\n",
    "\n",
    "def get_label(arr):\n",
    "    \"\"\"\n",
    "    Get the Yahtzee label for a given dice combination array\n",
    "    \"\"\"\n",
    "    cnt = get_cnt(arr)\n",
    "    seq = get_seq(arr)\n",
    "    if 5 in cnt:\n",
    "        return 'yathzee'  # intentional typo because teacher supplied dataset also includes this typo\n",
    "    if seq == 5:\n",
    "        return 'large-straight'\n",
    "    if seq == 4:\n",
    "        return 'small-straight'\n",
    "    if 3 in cnt and 2 in cnt:\n",
    "        return 'full-house'\n",
    "    if 4 in cnt:\n",
    "        return 'four-of-a-kind'\n",
    "    if 3 in cnt:\n",
    "        return 'three-of-a-kind'\n",
    "    return 'nothing'"
   ]
  },
  {
   "cell_type": "code",
   "execution_count": 3,
   "metadata": {},
   "outputs": [],
   "source": [
    "all_throws = np.zeros((EYES**DICE, DICE), dtype=np.int)\n",
    "dice_count = np.zeros(DICE, np.int)\n",
    "\n",
    "labels = []\n",
    "for i in range(all_throws.shape[0]):\n",
    "    all_throws[i] = dice_count\n",
    "    labels.append(get_label(dice_count))\n",
    "    inc_dice_cnt(0)\n",
    "\n",
    "df_all = pd.DataFrame(all_throws+1, columns=['dice1', 'dice2', 'dice3', 'dice4', 'dice5'])\n",
    "df_all['label'] = labels\n",
    "df_all.to_csv('yahtzee-all.csv', index=False)"
   ]
  },
  {
   "cell_type": "code",
   "execution_count": 4,
   "metadata": {},
   "outputs": [],
   "source": [
    "df_other = pd.concat([df, df_all]).drop_duplicates(keep=False)\n",
    "df_other.to_csv('yahtzee-other.csv', index=False)"
   ]
  },
  {
   "cell_type": "code",
   "execution_count": 6,
   "metadata": {},
   "outputs": [],
   "source": [
    "df_other_fixed = pd.read_csv('yahtzee-other.csv')\n",
    "df_fixed = pd.concat([df_other_fixed, df_all]).drop_duplicates(keep=False)\n",
    "df_fixed.to_csv('yahtzee-fixed.csv', index=False)"
   ]
  },
  {
   "cell_type": "code",
   "execution_count": null,
   "metadata": {},
   "outputs": [],
   "source": []
  }
 ],
 "metadata": {
  "kernelspec": {
   "display_name": "Python 3",
   "language": "python",
   "name": "python3"
  },
  "language_info": {
   "codemirror_mode": {
    "name": "ipython",
    "version": 3
   },
   "file_extension": ".py",
   "mimetype": "text/x-python",
   "name": "python",
   "nbconvert_exporter": "python",
   "pygments_lexer": "ipython3",
   "version": "3.6.7"
  }
 },
 "nbformat": 4,
 "nbformat_minor": 2
}
