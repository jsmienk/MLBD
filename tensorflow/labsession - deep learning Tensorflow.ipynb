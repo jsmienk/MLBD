{
 "cells": [
  {
   "cell_type": "code",
   "execution_count": 2,
   "metadata": {},
   "outputs": [],
   "source": [
    "from __future__ import print_function\n",
    "from datetime import datetime\n",
    "import numpy as np\n",
    "import pandas as pd\n",
    "import tensorflow as tf\n",
    "import matplotlib.pyplot as plt\n",
    "%matplotlib inline"
   ]
  },
  {
   "cell_type": "markdown",
   "metadata": {},
   "source": [
    "# Preliminary exercises\n",
    "In this first part of the lab session you will learn to use concepts such as constants, placeholder, variables and TensorBoard."
   ]
  },
  {
   "cell_type": "markdown",
   "metadata": {},
   "source": [
    "## Exercise 1: currency"
   ]
  },
  {
   "cell_type": "markdown",
   "metadata": {},
   "source": [
    "<img src=\"https://upload.wikimedia.org/wikipedia/en/thumb/6/63/20_eurocent_common_2007.jpg/144px-20_eurocent_common_2007.jpg\">\n",
    "When the euro currency was introduced in the year 2002, the people in the Netherlands had to learn how to convert from gulden (the old currency) to euro and the other way around.\n",
    "\n",
    "Luckily some people discovered the following trick that was taught to everybody in the Netherlands. If you want to convert from euro to gulden, then you double the amount of euros and you add 10%, that gives you the amount in guldens.\n",
    "\n",
    "For example, suppose you have 5 euros. You double it (10) and add 10%, which makes it 11 gulden.\n",
    "The trick can also can be applied the other way around of course. Suppose you have 11 gulden, remove 10% (10) and divide by 2. That gives you 5 euro.\n",
    "\n",
    "Lets build a graph in TensorFlow that is able to convert from euro to gulden. Make sure that the input is flexible, and that you feed the network the amount you want to convert when you evaluate it. Export the graph to TensorBoard and give meaningful names to the nodes."
   ]
  },
  {
   "cell_type": "code",
   "execution_count": 22,
   "metadata": {},
   "outputs": [
    {
     "name": "stdout",
     "output_type": "stream",
     "text": [
      "11.0\n",
      "17.6\n"
     ]
    }
   ],
   "source": [
    "# Setup variables\n",
    "gulden = tf.Variable(0.00, name='Gulden')\n",
    "euros = tf.placeholder(tf.float32, name='Euros')\n",
    "constant = tf.constant(2.20, name='Constant')\n",
    "calculation_rule = gulden.assign(euros * constant)\n",
    "\n",
    "sess = tf.Session()\n",
    "# Initialize variables\n",
    "sess.run(tf.global_variables_initializer())\n",
    "\n",
    "sess.run(calculation_rule, feed_dict={euros: 5})\n",
    "print(sess.run(gulden))\n",
    "\n",
    "sess.run(calculation_rule, feed_dict={euros: 8})\n",
    "print(sess.run(gulden))"
   ]
  },
  {
   "cell_type": "markdown",
   "metadata": {},
   "source": [
    "## Exercise 2: boolean logic"
   ]
  },
  {
   "cell_type": "markdown",
   "metadata": {},
   "source": [
    "As you might know from earlier years, many boolean operations can be expressed using so called logical gates (electrical components that are used in chips). It is possible to write more complex operations such as NAND, NOR and XOR from the fundamental logical operators OR, AND and NOT. The following image shows an XOR-gate that we will build as a network:\n",
    "\n",
    "<img src=\"https://i.stack.imgur.com/3YG4z.png\">\n",
    "\n",
    "In this image:\n",
    "- The circles represent the NOT-operations\n",
    "- The gate (half-rectangle/half-circle shape) represents the AND-operation\n",
    "\n",
    "The XOR (exclusive-or) behaves almost as the normal or, with the addition that if both values are true, the outcome is false:\n",
    "\n",
    "| A     | B     | Outcome |\n",
    "|-------|-------|---------|\n",
    "| True  | True  | False   |\n",
    "| True  | False | True    |\n",
    "| False | True  | True    |\n",
    "| False | False | False   |\n",
    "\n",
    "Build a TensorFlow graph that is able to evaluate two booleans (tf.bool) with an XOR operation, by implementing the XOR only using ANDS and NOTS. **Please note: there is a tf.logical_xor, but you are not allowed to use that one in this exercise :-)**.\n",
    "\n",
    "Give all your nodes a name and export them to TensorBoard so that you can view the generated graph."
   ]
  },
  {
   "cell_type": "code",
   "execution_count": 23,
   "metadata": {
    "code_folding": []
   },
   "outputs": [
    {
     "name": "stdout",
     "output_type": "stream",
     "text": [
      "False\n",
      "True\n",
      "True\n",
      "False\n"
     ]
    }
   ],
   "source": [
    "result = tf.Variable(False, name='Outcome')\n",
    "left = tf.placeholder(tf.bool, name='A')\n",
    "right = tf.placeholder(tf.bool, name='B')\n",
    "calculation_rule = result.assign(tf.math.not_equal(left, right))\n",
    "\n",
    "sess = tf.Session()\n",
    "# Initialize variables\n",
    "sess.run(tf.global_variables_initializer())\n",
    "\n",
    "sess.run(calculation_rule, feed_dict={left: True, right: True})\n",
    "print(sess.run(result))\n",
    "\n",
    "sess.run(calculation_rule, feed_dict={left: True, right: False})\n",
    "print(sess.run(result))\n",
    "\n",
    "sess.run(calculation_rule, feed_dict={left: False, right: True})\n",
    "print(sess.run(result))\n",
    "\n",
    "sess.run(calculation_rule, feed_dict={left: False, right: False})\n",
    "print(sess.run(result))"
   ]
  },
  {
   "cell_type": "markdown",
   "metadata": {},
   "source": [
    "## Exercise 3: Fibonacci series"
   ]
  },
  {
   "cell_type": "markdown",
   "metadata": {},
   "source": [
    "The Fibonacci series is a mathematical series that is used for several applications. One of those applications is the growth of the rabbit population (as shown in the image below):\n",
    "\n",
    "<img src=\"http://www.maths.surrey.ac.uk/hosted-sites/R.Knott/Fibonacci/fibrab.gif\">\n",
    "\n",
    "The Fibonacci-sequence can be calculated using the following formula $fib(n) = fib(n-1) + fib(n-2)$, where $fib(0) = 0$ and $fib(1) = 1$.\n",
    "\n",
    "Write a TensorFlow graph that is able to generate Fibonacci numbers. The graph should keep track of all the numbers that already have been generated and add a new fibonacci number every time you evaluate the graph.\n",
    "\n",
    "**Hints:**\n",
    "- Use a variable with the initial values\n",
    "- Expanding the dimensions of a variable is something you can achieve with tf.assign (with validate_shape set to False)"
   ]
  },
  {
   "cell_type": "code",
   "execution_count": 52,
   "metadata": {},
   "outputs": [
    {
     "name": "stdout",
     "output_type": "stream",
     "text": [
      "1\n",
      "1\n",
      "2\n",
      "3\n",
      "5\n",
      "8\n",
      "13\n",
      "21\n",
      "34\n",
      "55\n",
      "89\n"
     ]
    }
   ],
   "source": [
    "prev = tf.Variable(0, name='PrevFib')\n",
    "fib = tf.Variable(1, name='Fib')\n",
    "calc1 = prev.assign(fib - prev)\n",
    "calc2 = fib.assign(prev + fib)\n",
    "\n",
    "sess = tf.Session()\n",
    "# Initialize variables\n",
    "sess.run(tf.global_variables_initializer())\n",
    "\n",
    "print(sess.run(fib))\n",
    "for _ in range(10):\n",
    "    sess.run(calc2)\n",
    "    sess.run(calc1)\n",
    "    print(sess.run(fib))"
   ]
  },
  {
   "cell_type": "markdown",
   "metadata": {},
   "source": [
    "# Linear regression"
   ]
  },
  {
   "cell_type": "markdown",
   "metadata": {},
   "source": [
    "## Exercise 4: single variable and bias"
   ]
  },
  {
   "cell_type": "markdown",
   "metadata": {},
   "source": [
    "The dataset `housepricing.csv` (also used in week 1 of Introduction to Machine Learning) contains house prices for a given construction year. In the next cell we have created a plot of the data in the dataset.\n",
    "\n",
    "Implement linear regression using TensorFlow to find the optimal function that describes this dataset.\n",
    "\n",
    "**Hints:**\n",
    "- Make sure the learning rate is small enough to let the algorithm train well\n",
    "- You could use the AdamOptimizer instead of the GradientDescentOptimizer. This optimizer will automatically adjust the learning rate\n",
    "- Monitor your slope, intercept and loss values using TensorBoard to see if your algorithm works well\n",
    "- Don't be afraid to use a lot of training rounds (>12500?)"
   ]
  },
  {
   "cell_type": "code",
   "execution_count": 47,
   "metadata": {},
   "outputs": [
    {
     "data": {
      "image/png": "[encoded data removed]",
      "text/plain": [
       "<Figure size 432x288 with 1 Axes>"
      ]
     },
     "metadata": {
      "needs_background": "light"
     },
     "output_type": "display_data"
    }
   ],
   "source": [
    "csv_data = np.genfromtxt('housepricing.csv', delimiter=',')\n",
    "\n",
    "# Seperate the input and the output\n",
    "data = np.array([x[0] for x in csv_data])\n",
    "y_labels = np.array([x[1] for x in csv_data])\n",
    "\n",
    "# Set graph information\n",
    "plt.title('House prices with respect to its building year')\n",
    "plt.xlabel('Year of construction (19XX)')\n",
    "plt.ylabel('Price (k dollars)')\n",
    "\n",
    "# Plot the points in a graph\n",
    "plt.plot(data, y_labels, 'o');"
   ]
  },
  {
   "cell_type": "code",
   "execution_count": null,
   "metadata": {},
   "outputs": [],
   "source": [
    "## Here comes your implementation of linear regression"
   ]
  },
  {
   "cell_type": "markdown",
   "metadata": {},
   "source": [
    "## Exercise 5: multiple variables and bias"
   ]
  },
  {
   "cell_type": "markdown",
   "metadata": {},
   "source": [
    "<img src=\"https://png.pngtree.com/element_origin_min_pic/16/09/03/2257cad8975e1e4.jpg\" alt=\"drawing\" style=\"width:200px;\"/>\n",
    "The following exercise uses data from a cattle market. Farmers go to this specific cattle market to buy cows and pigs. Each cow and pig has a fixed price. In addition, farmers have to pay an entry fee. The dataset (`cattlemarket.csv`) for this exercise contains the amount of cows and the amount of pigs that have been bought by the farmers and the total price. The entry fee is included in the total price.\n",
    "\n",
    "The goal of this exercise is to train a linear regression model that is able to calculate the total price for a given number of cows and pigs (including the entry price). Use linear regression and TensorFlow to solve this problem.\n",
    "\n",
    "When your model has been trained correctly, you should be able to find out what the prices are for a single cow, a single pig and what the entry price is by examining the weights/bias.\n",
    "\n",
    "**Hints:**\n",
    "- Define the linear regression formula for this problem\n",
    "- Create the variables for amount of cows and amount of sheep in a matrix (instead of two separate variables) so that you can use a matrix multiplication\n",
    "- Create a variable for the entry price\n",
    "- Use gradient descent to train your algorithm\n",
    "- Errors that often occur are problems with matrix sizes. It is wise to study the reshape operation in both NumPy and TensorFlow, so that you can easily change dimensions of a matrix (see: https://www.geeksforgeeks.org/numpy-reshape-python/)\n",
    "- Often using the AdamOptimizer (instead of the GradientDescentOptimizer) gives you faster results"
   ]
  },
  {
   "cell_type": "code",
   "execution_count": null,
   "metadata": {},
   "outputs": [],
   "source": [
    "# Your code here"
   ]
  }
 ],
 "metadata": {
  "kernelspec": {
   "display_name": "Python 3",
   "language": "python",
   "name": "python3"
  },
  "language_info": {
   "codemirror_mode": {
    "name": "ipython",
    "version": 3
   },
   "file_extension": ".py",
   "mimetype": "text/x-python",
   "name": "python",
   "nbconvert_exporter": "python",
   "pygments_lexer": "ipython3",
   "version": "3.6.7"
  },
  "toc": {
   "base_numbering": 1,
   "nav_menu": {},
   "number_sections": true,
   "sideBar": true,
   "skip_h1_title": false,
   "title_cell": "Table of Contents",
   "title_sidebar": "Contents",
   "toc_cell": false,
   "toc_position": {},
   "toc_section_display": true,
   "toc_window_display": false
  },
  "varInspector": {
   "cols": {
    "lenName": 16,
    "lenType": 16,
    "lenVar": 40
   },
   "kernels_config": {
    "python": {
     "delete_cmd_postfix": "",
     "delete_cmd_prefix": "del ",
     "library": "var_list.py",
     "varRefreshCmd": "print(var_dic_list())"
    },
    "r": {
     "delete_cmd_postfix": ") ",
     "delete_cmd_prefix": "rm(",
     "library": "var_list.r",
     "varRefreshCmd": "cat(var_dic_list()) "
    }
   },
   "types_to_exclude": [
    "module",
    "function",
    "builtin_function_or_method",
    "instance",
    "_Feature"
   ],
   "window_display": false
  }
 },
 "nbformat": 4,
 "nbformat_minor": 2
}
